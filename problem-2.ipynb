{
 "cells": [
  {
   "cell_type": "markdown",
   "metadata": {},
   "source": [
    "question 1: \n",
    "\n",
    "Task: use 17 industry portfolio as regressor, estimate HML and MOM \n",
    "\n",
    "1. create HML and MOM \n",
    "\n",
    "For each of HML and MOM: \n",
    "\n",
    "2. run one of each type of regression: linear, ridge, and LASSO with all regressor. Pick best 2 out 3 using R2, AIC, and BIC \n",
    "\n",
    "3. best 2 x (forward + hybrid) + random forest \n",
    "\n",
    "  \n",
    "\n",
    "Compare selection criteria across models and across (1a), (1b), and (1c) \n",
    "\n",
    "  \n",
    "\n",
    "select three best models for HML and for MOM separately for question 1 \n",
    "\n",
    "  \n",
    "\n",
    "question 2: \n",
    "\n",
    "Task: use 17 industry portfolio as regressor, Comment on the ease or difficulty of replicating the components as opposed to the entire return \n",
    "\n",
    "1. use three best model for HML and compare that with accuracy of SV+BV and SG+BG \n",
    "\n",
    "2. use three best model for MOM and compare that with accuracy of SH+BH and SL+BL \n",
    "\n",
    "  \n",
    "\n",
    "question 3: \n",
    "\n",
    "Task: combine the three procedures, and test accuracy on HML and MOM vs each of the component \n",
    "\n",
    "if still have word count, can test accuracy on long-side and short side and/or do pairs combinations of three procedures \n"
   ]
  }
 ],
 "metadata": {
  "language_info": {
   "name": "python"
  }
 },
 "nbformat": 4,
 "nbformat_minor": 2
}
