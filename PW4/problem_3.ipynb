{
 "cells": [
  {
   "cell_type": "code",
   "execution_count": 1,
   "metadata": {},
   "outputs": [],
   "source": [
    "import numpy as np\n",
    "import pandas as pd"
   ]
  },
  {
   "cell_type": "code",
   "execution_count": null,
   "metadata": {},
   "outputs": [],
   "source": [
    "def weighted_hs(rets, lam, window, p):\n",
    "    \"\"\"\n",
    "    Compute the Weighted Historical Simulation Value-at-Risk (VaR).\n",
    "\n",
    "    Parameters:\n",
    "    rets (pd.Series): t-element pandas Series with a DatetimeIndex representing returns.\n",
    "    lam (float): Smoothing parameter (0 < lam < 1).\n",
    "    window (int): The size of the rolling window to compute the weighted CDF.\n",
    "    p (float): The confidence level for VaR computation (e.g., 0.95 for 95% VaR).\n",
    "\n",
    "    Returns:\n",
    "    pd.Series: A series of 1-step ahead VaR forecasts with the first `window-1` values as NaN.\n",
    "    \"\"\"\n",
    "    var_forecast = pd.Series(index=rets.index, dtype=float)\n",
    "    \n",
    "    # Compute weights\n",
    "    weights = np.array([(1 - lam) * (lam ** i) for i in range(window)][::-1])\n",
    "    weights /= weights.sum()  # Normalize to sum to 1\n",
    "    \n",
    "    for t in range(window - 1, len(rets)):\n",
    "        window_data = rets.iloc[t - window + 1 : t + 1].values  # Get the rolling window data\n",
    "        sorted_indices = np.argsort(window_data)  # Sort returns\n",
    "        sorted_returns = window_data[sorted_indices]\n",
    "        sorted_weights = weights[sorted_indices].cumsum()  # Compute cumulative weights\n",
    "\n",
    "        # Find the VaR as the quantile where cumulative probability reaches (1 - p)\n",
    "        var_forecast.iloc[t] = sorted_returns[np.searchsorted(sorted_weights, 1 - p)]\n",
    "    \n",
    "    return var_forecast"
   ]
  },
  {
   "cell_type": "code",
   "execution_count": null,
   "metadata": {},
   "outputs": [],
   "source": [
    "def subsampled_rv(rets, k):\n",
    "    \"\"\"\n",
    "    Compute the subsampled realized variance (RV).\n",
    "\n",
    "    Parameters:\n",
    "    rets (pd.Series): n-element pandas Series of observed high-frequency returns.\n",
    "    k (int): The block size for subsampling.\n",
    "\n",
    "    Returns:\n",
    "    float: The subsampled realized variance.\n",
    "    \"\"\"\n",
    "    n = len(rets)\n",
    "    \n",
    "    # Compute cumulative sums over rolling windows of size k\n",
    "    subsampled_sums = rets.rolling(window=k).sum().dropna()\n",
    "    \n",
    "    # Compute the squared sum for each block\n",
    "    squared_sums = subsampled_sums ** 2\n",
    "    \n",
    "    # Compute the subsampled realized variance\n",
    "    rv = (n / k) / (n - k + 1) * squared_sums.sum()\n",
    "    \n",
    "    return rv"
   ]
  }
 ],
 "metadata": {
  "kernelspec": {
   "display_name": "Python 3",
   "language": "python",
   "name": "python3"
  },
  "language_info": {
   "codemirror_mode": {
    "name": "ipython",
    "version": 3
   },
   "file_extension": ".py",
   "mimetype": "text/x-python",
   "name": "python",
   "nbconvert_exporter": "python",
   "pygments_lexer": "ipython3",
   "version": "3.12.1"
  }
 },
 "nbformat": 4,
 "nbformat_minor": 2
}
