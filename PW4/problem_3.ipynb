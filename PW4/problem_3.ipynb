{
 "cells": [
  {
   "cell_type": "code",
   "execution_count": 1,
   "metadata": {},
   "outputs": [],
   "source": [
    "import numpy as np\n",
    "import pandas as pd"
   ]
  },
  {
   "cell_type": "code",
   "execution_count": 2,
   "metadata": {},
   "outputs": [],
   "source": [
    "import numpy as np\n",
    "import pandas as pd\n",
    "\n",
    "def weighted_hs(rets, lam, window, p):\n",
    "    \"\"\"\n",
    "    Compute the Weighted Historical Simulation Value-at-Risk (VaR).\n",
    "\n",
    "    Parameters:\n",
    "    rets (pd.Series): t-element pandas Series with a DatetimeIndex representing returns.\n",
    "    lam (float): Smoothing parameter (0 < lam < 1).\n",
    "    window (int): The size of the rolling window to compute the weighted CDF.\n",
    "    p (float): The confidence level for VaR computation (e.g., 0.95 for 95% VaR).\n",
    "\n",
    "    Returns:\n",
    "    pd.Series: A series of 1-step ahead VaR forecasts with the first `window-1` values as NaN.\n",
    "    \"\"\"\n",
    "    returns = pd.Series(index=rets.index, dtype=float)\n",
    "    \n",
    "    # Compute weights\n",
    "    T = len(returns)\n",
    "    # Initialize an array to store the weights\n",
    "    weights = np.zeros(T)\n",
    "    \n",
    "    # Calculate the weight for T (the most recent period)\n",
    "    weights[T-1] = (1 - lam) / (1 - lam ** window)\n",
    "    \n",
    "    # Calculate the weights for t < T using the recursive relationship\n",
    "    for t in range(T-2, -1, -1):\n",
    "        weights[t] = lam * weights[t+1]\n",
    "    \n",
    "    # need to check code below\n",
    "    # calculate G (weighted empirical CDF)\n",
    "    for t in range(window - 1, len(rets)):\n",
    "        window_data = rets.iloc[t - window + 1 : t + 1].values  # Get the rolling window data\n",
    "        sorted_indices = np.argsort(window_data)  # Sort returns\n",
    "        sorted_returns = window_data[sorted_indices]\n",
    "        sorted_weights = weights[sorted_indices].cumsum()  # Compute cumulative weights\n",
    "\n",
    "        # Find the VaR as the quantile where cumulative probability reaches (1 - p)\n",
    "        var_forecast.iloc[t] = sorted_returns[np.searchsorted(sorted_weights, 1 - p)]\n",
    "    \n",
    "    return var_forecast"
   ]
  }
 ],
 "metadata": {
  "kernelspec": {
   "display_name": "Python 3",
   "language": "python",
   "name": "python3"
  },
  "language_info": {
   "codemirror_mode": {
    "name": "ipython",
    "version": 3
   },
   "file_extension": ".py",
   "mimetype": "text/x-python",
   "name": "python",
   "nbconvert_exporter": "python",
   "pygments_lexer": "ipython3",
   "version": "3.12.1"
  }
 },
 "nbformat": 4,
 "nbformat_minor": 2
}
