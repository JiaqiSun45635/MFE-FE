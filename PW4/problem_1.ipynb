{
 "cells": [
  {
   "cell_type": "code",
   "execution_count": null,
   "metadata": {
    "vscode": {
     "languageId": "plaintext"
    }
   },
   "outputs": [],
   "source": [
    "prices = pd.read_csv(\"mfe-practical-work-4-2024-2025.csv.gz\",\n",
    "compression=\"infer\")\n",
    "prices[\"timestamp\"] = pd.to_datetime(prices.timestamp)\n",
    "prices = prices.set_index(\"timestamp\")"
   ]
  }
 ],
 "metadata": {
  "language_info": {
   "name": "python"
  }
 },
 "nbformat": 4,
 "nbformat_minor": 2
}
