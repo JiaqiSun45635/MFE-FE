{
 "cells": [
  {
   "cell_type": "markdown",
   "metadata": {},
   "source": [
    "# Question 5"
   ]
  },
  {
   "cell_type": "code",
   "execution_count": 41,
   "metadata": {},
   "outputs": [
    {
     "name": "stdout",
     "output_type": "stream",
     "text": [
      "Requirement already satisfied: arch in /usr/local/python/3.12.1/lib/python3.12/site-packages (7.2.0)\n",
      "Requirement already satisfied: numpy>=1.22.3 in /home/codespace/.local/lib/python3.12/site-packages (from arch) (2.2.0)\n",
      "Requirement already satisfied: scipy>=1.8 in /home/codespace/.local/lib/python3.12/site-packages (from arch) (1.14.1)\n",
      "Requirement already satisfied: pandas>=1.4 in /home/codespace/.local/lib/python3.12/site-packages (from arch) (2.2.3)\n",
      "Requirement already satisfied: statsmodels>=0.12 in /usr/local/python/3.12.1/lib/python3.12/site-packages (from arch) (0.14.4)\n",
      "Requirement already satisfied: python-dateutil>=2.8.2 in /home/codespace/.local/lib/python3.12/site-packages (from pandas>=1.4->arch) (2.9.0.post0)\n",
      "Requirement already satisfied: pytz>=2020.1 in /home/codespace/.local/lib/python3.12/site-packages (from pandas>=1.4->arch) (2024.2)\n",
      "Requirement already satisfied: tzdata>=2022.7 in /home/codespace/.local/lib/python3.12/site-packages (from pandas>=1.4->arch) (2024.2)\n",
      "Requirement already satisfied: patsy>=0.5.6 in /usr/local/python/3.12.1/lib/python3.12/site-packages (from statsmodels>=0.12->arch) (1.0.1)\n",
      "Requirement already satisfied: packaging>=21.3 in /home/codespace/.local/lib/python3.12/site-packages (from statsmodels>=0.12->arch) (24.2)\n",
      "Requirement already satisfied: six>=1.5 in /home/codespace/.local/lib/python3.12/site-packages (from python-dateutil>=2.8.2->pandas>=1.4->arch) (1.17.0)\n",
      "\n",
      "\u001b[1m[\u001b[0m\u001b[34;49mnotice\u001b[0m\u001b[1;39;49m]\u001b[0m\u001b[39;49m A new release of pip is available: \u001b[0m\u001b[31;49m24.3.1\u001b[0m\u001b[39;49m -> \u001b[0m\u001b[32;49m25.0.1\u001b[0m\n",
      "\u001b[1m[\u001b[0m\u001b[34;49mnotice\u001b[0m\u001b[1;39;49m]\u001b[0m\u001b[39;49m To update, run: \u001b[0m\u001b[32;49mpython3 -m pip install --upgrade pip\u001b[0m\n"
     ]
    }
   ],
   "source": [
    "import pandas as pd\n",
    "import numpy as np\n",
    "!pip install arch --upgrade\n",
    "from arch import arch_model\n",
    "from scipy.stats import norm"
   ]
  },
  {
   "cell_type": "code",
   "execution_count": 25,
   "metadata": {},
   "outputs": [],
   "source": [
    "kospi = pd.read_csv(\"^kospi_d.csv\", parse_dates=[\"Date\"], index_col=\"Date\")\n",
    "ndx = pd.read_csv(\"^ndx_d.csv\")\n",
    "# kospi is longer"
   ]
  },
  {
   "cell_type": "code",
   "execution_count": 26,
   "metadata": {},
   "outputs": [],
   "source": [
    "kospi = kospi.sort_index()"
   ]
  },
  {
   "cell_type": "code",
   "execution_count": 27,
   "metadata": {},
   "outputs": [],
   "source": [
    "# Resample to get Thursday closing prices (weekly)\n",
    "thursday_prices = kospi.resample(\"W-THU\").last()\n",
    "\n",
    "# Select every second Thursday to get non-overlapping 2-week returns\n",
    "non_overlapping_thursdays = thursday_prices.iloc[::2]\n",
    "\n",
    "# Compute non-overlapping returns\n",
    "returns = (non_overlapping_thursdays[\"Close\"] / non_overlapping_thursdays[\"Close\"].shift(1)) - 1\n",
    "returns = returns.dropna()  # Remove any NaN values that result from the shift"
   ]
  },
  {
   "cell_type": "code",
   "execution_count": 28,
   "metadata": {},
   "outputs": [],
   "source": [
    "# get first 10 years\n",
    "start_date = returns.index.min()  # Get the first available date\n",
    "end_date = start_date + pd.DateOffset(years=10)  # Add 10 years to the start date\n",
    "\n",
    "# Filter the returns to get the first 10 years\n",
    "first_10_years_returns = returns[(returns.index >= start_date) & (returns.index < end_date)]"
   ]
  },
  {
   "cell_type": "code",
   "execution_count": null,
   "metadata": {},
   "outputs": [
    {
     "name": "stdout",
     "output_type": "stream",
     "text": [
      "Iteration:      1,   Func. Count:      6,   Neg. LLF: 928135320.7316562\n",
      "Iteration:      2,   Func. Count:     17,   Neg. LLF: -391.56286680197184\n",
      "Iteration:      3,   Func. Count:     26,   Neg. LLF: -315.7419461043495\n",
      "Iteration:      4,   Func. Count:     33,   Neg. LLF: 661.502245055538\n",
      "Iteration:      5,   Func. Count:     41,   Neg. LLF: -436.64272537863314\n",
      "Iteration:      6,   Func. Count:     48,   Neg. LLF: -486.7013756188071\n",
      "Iteration:      7,   Func. Count:     54,   Neg. LLF: -486.7653087953152\n",
      "Iteration:      8,   Func. Count:     59,   Neg. LLF: -486.76610981474664\n",
      "Iteration:      9,   Func. Count:     63,   Neg. LLF: -486.76610981498357\n",
      "Optimization terminated successfully    (Exit mode 0)\n",
      "            Current function value: -486.76610981474664\n",
      "            Iterations: 9\n",
      "            Function evaluations: 63\n",
      "            Gradient evaluations: 9\n"
     ]
    },
    {
     "name": "stderr",
     "output_type": "stream",
     "text": [
      "/usr/local/python/3.12.1/lib/python3.12/site-packages/arch/univariate/base.py:309: DataScaleWarning: y is poorly scaled, which may affect convergence of the optimizer when\n",
      "estimating the model parameters. The scale of y is 0.001478. Parameter\n",
      "estimation work better when this value is between 1 and 1000. The recommended\n",
      "rescaling is 10 * y.\n",
      "\n",
      "This warning can be disabled by either rescaling y before initializing the\n",
      "model or by setting rescale=False.\n",
      "\n",
      "  warnings.warn(\n"
     ]
    }
   ],
   "source": [
    "# 5. Fit a GARCH(1,1) model to the initial sample with a constant mean\n",
    "garch_model = arch_model(first_10_years_returns, vol='Garch', p=1, q=1, mean='Constant')\n",
    "garch_fit = garch_model.fit()\n",
    "\n",
    "# 6. Calculate the 5% 2-week VaR using the GARCH model\n",
    "# Forecast the volatility for the next 2-week period\n",
    "forecast_horizon = 1  # 1-step ahead forecast for the next 2 weeks (since returns are biweekly)\n",
    "forecast = garch_fit.forecast(horizon=forecast_horizon)"
   ]
  },
  {
   "cell_type": "code",
   "execution_count": null,
   "metadata": {},
   "outputs": [
    {
     "ename": "IndexError",
     "evalue": "index 1 is out of bounds for axis 1 with size 1",
     "output_type": "error",
     "traceback": [
      "\u001b[0;31m---------------------------------------------------------------------------\u001b[0m",
      "\u001b[0;31mIndexError\u001b[0m                                Traceback (most recent call last)",
      "Cell \u001b[0;32mIn[30], line 2\u001b[0m\n\u001b[1;32m      1\u001b[0m \u001b[38;5;66;03m# Extract the volatility forecast for the 2-week horizon\u001b[39;00m\n\u001b[0;32m----> 2\u001b[0m volatility_forecast \u001b[38;5;241m=\u001b[39m \u001b[43mforecast\u001b[49m\u001b[38;5;241;43m.\u001b[39;49m\u001b[43mvariance\u001b[49m\u001b[38;5;241;43m.\u001b[39;49m\u001b[43mvalues\u001b[49m\u001b[43m[\u001b[49m\u001b[38;5;241;43m-\u001b[39;49m\u001b[38;5;241;43m1\u001b[39;49m\u001b[43m,\u001b[49m\u001b[43m \u001b[49m\u001b[38;5;241;43m1\u001b[39;49m\u001b[43m]\u001b[49m \u001b[38;5;241m*\u001b[39m\u001b[38;5;241m*\u001b[39m \u001b[38;5;241m0.5\u001b[39m  \u001b[38;5;66;03m# square root for volatility\u001b[39;00m\n\u001b[1;32m      4\u001b[0m \u001b[38;5;66;03m# 7. Calculate 5% VaR (the negative quantile of the normal distribution)\u001b[39;00m\n\u001b[1;32m      5\u001b[0m VaR_5_percent \u001b[38;5;241m=\u001b[39m \u001b[38;5;241m-\u001b[39mnp\u001b[38;5;241m.\u001b[39mpercentile(np\u001b[38;5;241m.\u001b[39mrandom\u001b[38;5;241m.\u001b[39mnormal(\u001b[38;5;241m0\u001b[39m, volatility_forecast, \u001b[38;5;241m10000\u001b[39m), \u001b[38;5;241m5\u001b[39m)\n",
      "\u001b[0;31mIndexError\u001b[0m: index 1 is out of bounds for axis 1 with size 1"
     ]
    }
   ],
   "source": [
    "# Extract the volatility forecast for the 2-week horizon\n",
    "volatility_forecast = forecast.variance.values ** 0.5  # square root for volatility\n",
    "\n",
    "estimated_mean = garch_fit.params['mu']\n",
    "\n",
    "# Calculate the 5% VaR for the 2-week horizon using the normal distribution\n",
    "confidence_level = 0.05\n",
    "\n",
    "# SHOULD WE ASSUME e is NORMAL?\n",
    "\n",
    "z_score = norm.ppf(confidence_level)  # Get the z-score for the 5% level\n",
    "VaR_5_percent = -estimated_mean -z_score * forecasted_volatility  # The VaR is negative because it represents a loss"
   ]
  }
 ],
 "metadata": {
  "kernelspec": {
   "display_name": "Python 3",
   "language": "python",
   "name": "python3"
  },
  "language_info": {
   "codemirror_mode": {
    "name": "ipython",
    "version": 3
   },
   "file_extension": ".py",
   "mimetype": "text/x-python",
   "name": "python",
   "nbconvert_exporter": "python",
   "pygments_lexer": "ipython3",
   "version": "3.12.1"
  }
 },
 "nbformat": 4,
 "nbformat_minor": 2
}
