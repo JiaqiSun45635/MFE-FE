{
 "cells": [
  {
   "cell_type": "markdown",
   "metadata": {},
   "source": [
    "# Question 5"
   ]
  },
  {
   "cell_type": "code",
   "execution_count": null,
   "metadata": {},
   "outputs": [],
   "source": [
    "import pandas as pd\n",
    "import numpy as np\n",
    "!pip install arch --upgrade\n",
    "from arch import arch_model"
   ]
  },
  {
   "cell_type": "code",
   "execution_count": 11,
   "metadata": {},
   "outputs": [],
   "source": [
    "kospi = pd.read_csv(\"^kospi_d.csv\", parse_dates=[\"Date\"], index_col=\"Date\")\n",
    "ndx = pd.read_csv(\"^ndx_d.csv\")\n",
    "# kospi is longer"
   ]
  },
  {
   "cell_type": "code",
   "execution_count": 12,
   "metadata": {},
   "outputs": [],
   "source": [
    "kospi = kospi.sort_index()"
   ]
  },
  {
   "cell_type": "code",
   "execution_count": null,
   "metadata": {},
   "outputs": [],
   "source": [
    "# Resample to get Thursday closing prices (weekly)\n",
    "thursday_prices = kospi.resample(\"W-THU\").last()\n",
    "\n",
    "# Select every second Thursday to get non-overlapping 2-week returns\n",
    "non_overlapping_thursdays = thursday_prices.iloc[::2]\n",
    "\n",
    "# Compute non-overlapping log returns\n",
    "log_returns = np.log(non_overlapping_thursdays[\"Close\"] / non_overlapping_thursdays[\"Close\"].shift(1)).dropna()"
   ]
  },
  {
   "cell_type": "code",
   "execution_count": null,
   "metadata": {},
   "outputs": [],
   "source": [
    "# get first 10 years\n",
    "start_date = log_returns.index.min()  # Get the first available date\n",
    "end_date = start_date + pd.DateOffset(years=10)  # Add 10 years to the start date\n",
    "\n",
    "# Filter the returns to get the first 10 years\n",
    "first_10_years_log_returns = log_returns[(log_returns.index >= start_date) & (log_returns.index < end_date)]"
   ]
  },
  {
   "cell_type": "code",
   "execution_count": null,
   "metadata": {},
   "outputs": [
    {
     "data": {
      "text/plain": [
       "Date\n",
       "1980-01-24   -0.059467\n",
       "1980-02-07    0.039049\n",
       "1980-02-21   -0.000955\n",
       "1980-03-06   -0.017843\n",
       "1980-03-20    0.018512\n",
       "                ...   \n",
       "1989-11-16    0.025834\n",
       "1989-11-30   -0.002402\n",
       "1989-12-14    0.023736\n",
       "1989-12-28   -0.020003\n",
       "1990-01-11   -0.007115\n",
       "Name: Close, Length: 257, dtype: float64"
      ]
     },
     "execution_count": 22,
     "metadata": {},
     "output_type": "execute_result"
    }
   ],
   "source": [
    "# 5. Fit a GARCH(1,1) model to the initial sample\n",
    "garch_model = arch_model(initial_returns, vol='Garch', p=1, q=1)\n",
    "garch_fit = garch_model.fit()\n",
    "\n",
    "# 6. Calculate the 5% 2-week VaR using the GARCH model\n",
    "# Forecast the volatility for the next 2-week period\n",
    "forecast = garch_fit.forecast(start=0, horizon=2)  # 2-week forecast\n",
    "\n",
    "# Extract the volatility forecast for the 2-week horizon\n",
    "volatility_forecast = forecast.variance.values[-1, 1] ** 0.5  # square root for volatility\n",
    "\n",
    "# 7. Calculate 5% VaR (the negative quantile of the normal distribution)\n",
    "VaR_5_percent = -np.percentile(np.random.normal(0, volatility_forecast, 10000), 5)"
   ]
  }
 ],
 "metadata": {
  "kernelspec": {
   "display_name": "Python 3",
   "language": "python",
   "name": "python3"
  },
  "language_info": {
   "codemirror_mode": {
    "name": "ipython",
    "version": 3
   },
   "file_extension": ".py",
   "mimetype": "text/x-python",
   "name": "python",
   "nbconvert_exporter": "python",
   "pygments_lexer": "ipython3",
   "version": "3.12.1"
  }
 },
 "nbformat": 4,
 "nbformat_minor": 2
}
