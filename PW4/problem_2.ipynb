{
 "cells": [
  {
   "cell_type": "markdown",
   "metadata": {},
   "source": [
    "# Question 5"
   ]
  },
  {
   "cell_type": "code",
   "execution_count": null,
   "metadata": {},
   "outputs": [],
   "source": [
    "import pandas as pd\n",
    "import numpy as np\n",
    "!pip install arch --upgrade\n",
    "from arch import arch_model"
   ]
  },
  {
   "cell_type": "code",
   "execution_count": 11,
   "metadata": {},
   "outputs": [],
   "source": [
    "kospi = pd.read_csv(\"^kospi_d.csv\", parse_dates=[\"Date\"], index_col=\"Date\")\n",
    "ndx = pd.read_csv(\"^ndx_d.csv\")\n",
    "# kospi is longer"
   ]
  },
  {
   "cell_type": "code",
   "execution_count": 12,
   "metadata": {},
   "outputs": [],
   "source": [
    "kospi = kospi.sort_index()"
   ]
  },
  {
   "cell_type": "code",
   "execution_count": null,
   "metadata": {},
   "outputs": [],
   "source": [
    "# Resample to get Thursday closing prices (weekly)\n",
    "thursday_prices = kospi.resample(\"W-THU\").last()\n",
    "\n",
    "# Select every second Thursday to get non-overlapping 2-week returns\n",
    "non_overlapping_thursdays = thursday_prices.iloc[::2]\n",
    "\n",
    "# Compute non-overlapping log returns\n",
    "log_returns = np.log(non_overlapping_thursdays[\"Close\"] / non_overlapping_thursdays[\"Close\"].shift(1)).dropna()"
   ]
  }
 ],
 "metadata": {
  "kernelspec": {
   "display_name": "Python 3",
   "language": "python",
   "name": "python3"
  },
  "language_info": {
   "codemirror_mode": {
    "name": "ipython",
    "version": 3
   },
   "file_extension": ".py",
   "mimetype": "text/x-python",
   "name": "python",
   "nbconvert_exporter": "python",
   "pygments_lexer": "ipython3",
   "version": "3.12.1"
  }
 },
 "nbformat": 4,
 "nbformat_minor": 2
}
