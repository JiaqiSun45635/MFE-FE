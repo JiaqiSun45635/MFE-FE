{
 "cells": [
  {
   "cell_type": "code",
   "execution_count": 1082,
   "metadata": {},
   "outputs": [],
   "source": [
    "import numpy as np\n",
    "import pandas as pd\n",
    "import itertools\n",
    "from itertools import combinations\n",
    "import calendar\n",
    "from sklearn.linear_model import LinearRegression\n",
    "from sklearn.linear_model import Ridge\n",
    "from sklearn.linear_model import Lasso\n",
    "from sklearn.ensemble import RandomForestClassifier, RandomForestRegressor\n",
    "from sklearn.model_selection import RandomizedSearchCV\n",
    "from sklearn.model_selection import TimeSeriesSplit\n",
    "from collections import Counter\n",
    "import math\n",
    "from sklearn.model_selection import PredefinedSplit"
   ]
  },
  {
   "cell_type": "code",
   "execution_count": 1083,
   "metadata": {},
   "outputs": [
    {
     "name": "stdout",
     "output_type": "stream",
     "text": [
      "   Unnamed: 0  Mom   \n",
      "0      195701   -3.09\n",
      "1      195702    0.32\n",
      "2      195703   -0.18\n",
      "3      195704    1.00\n",
      "4      195705    0.48\n",
      "   Unnamed: 0  Mkt-RF   SMB   HML    RF    Rm\n",
      "0      195701   -3.58  3.37  2.81  0.27 -3.31\n",
      "1      195702   -2.06 -0.72 -0.72  0.24 -1.82\n",
      "2      195703    2.13  0.26 -0.48  0.23  2.36\n",
      "3      195704    4.26 -1.59 -1.45  0.25  4.51\n",
      "4      195705    3.45 -1.05 -2.10  0.26  3.71\n",
      "  observation_date   GS1\n",
      "0       1957-01-01  3.37\n",
      "1       1957-02-01  3.38\n",
      "2       1957-03-01  3.42\n",
      "3       1957-04-01  3.49\n",
      "4       1957-05-01  3.48\n",
      "  observation_date   GS5\n",
      "0       1957-01-01  3.47\n",
      "1       1957-02-01  3.39\n",
      "2       1957-03-01  3.46\n",
      "3       1957-04-01  3.53\n",
      "4       1957-05-01  3.64\n",
      "  observation_date  GS10\n",
      "0       1957-01-01  3.46\n",
      "1       1957-02-01  3.34\n",
      "2       1957-03-01  3.41\n",
      "3       1957-04-01  3.48\n",
      "4       1957-05-01  3.60\n",
      "  observation_date   AAA\n",
      "0       1957-01-01  3.77\n",
      "1       1957-02-01  3.67\n",
      "2       1957-03-01  3.66\n",
      "3       1957-04-01  3.67\n",
      "4       1957-05-01  3.74\n",
      "  observation_date   BAA\n",
      "0       1957-01-01  4.49\n",
      "1       1957-02-01  4.47\n",
      "2       1957-03-01  4.43\n",
      "3       1957-04-01  4.44\n",
      "4       1957-05-01  4.52\n",
      "  observation_date  CPILFESL\n",
      "0       1957-01-01      28.5\n",
      "1       1957-02-01      28.6\n",
      "2       1957-03-01      28.7\n",
      "3       1957-04-01      28.8\n",
      "4       1957-05-01      28.8\n",
      "  observation_date  UNRATE\n",
      "0       1957-01-01     4.2\n",
      "1       1957-02-01     3.9\n",
      "2       1957-03-01     3.7\n",
      "3       1957-04-01     3.9\n",
      "4       1957-05-01     4.1\n",
      "  observation_date   INDPRO\n",
      "0       1957-01-01  21.9616\n",
      "1       1957-02-01  22.1766\n",
      "2       1957-03-01  22.1498\n",
      "3       1957-04-01  21.8541\n",
      "4       1957-05-01  21.7734\n"
     ]
    }
   ],
   "source": [
    "#momentum factor (monthly)\n",
    "ff = pd.read_csv(\"F-F_Momentum_Factor.csv\")\n",
    "\n",
    "#monthly returns on VWM\n",
    "vwm = pd.read_csv(\"VWM Monthly Returns.csv\")\n",
    "\n",
    "# the 1, 5, and 10-year constant maturity series from FRED monthly\n",
    "one = pd.read_csv(\"GS1.csv\")\n",
    "five = pd.read_csv(\"GS5.csv\")\n",
    "ten = pd.read_csv(\"GS10.csv\")\n",
    "\n",
    "#AAA and BAA monthly\n",
    "AAA = pd.read_csv(\"AAA.csv\")\n",
    "BAA = pd.read_csv(\"BAA.csv\")\n",
    "\n",
    "#CPI monthly\n",
    "CPI = pd.read_csv(\"CPILFESL.csv\")\n",
    "\n",
    "#Unemployment rate monthly\n",
    "UR = pd.read_csv(\"UNRATE.csv\")\n",
    "\n",
    "#Industrial Productivity monthly\n",
    "INDPRO = pd.read_csv(\"INDPRO.csv\")\n",
    "\n",
    "# Display the first few rows of the DataFrame\n",
    "print(ff.head())\n",
    "print(vwm.head())\n",
    "print(one.head())\n",
    "print(five.head())\n",
    "print(ten.head())\n",
    "print(AAA.head())\n",
    "print(BAA.head())\n",
    "print(CPI.head())\n",
    "print(UR.head())\n",
    "print(INDPRO.head())\n",
    "\n",
    "\n"
   ]
  },
  {
   "cell_type": "code",
   "execution_count": 1084,
   "metadata": {},
   "outputs": [],
   "source": [
    "#Variable Construction\n",
    "\n",
    "#TERM - The difference between the 10-year and the 1-year (Y10-Y1)\n",
    "\n",
    "TERM = ten['GS10']-one['GS1']\n",
    "\n",
    "#CURVE - The 10-year yield plus the 1-year yield minus 2 times the 5-year yield Y10 −2Y5 +Y1 = (Y10 −Y5)−(Y5 −Y1).\n",
    "\n",
    "CURVE = ten['GS10'] + one['GS1'] - 2*five['GS5']\n",
    "\n",
    "# DEFAULT - The difference between the AAA and the BAA yields YAAA-YBAA\n",
    "DEFAULT = AAA['AAA']-BAA['BAA']\n",
    "\n"
   ]
  },
  {
   "cell_type": "code",
   "execution_count": 1085,
   "metadata": {},
   "outputs": [],
   "source": [
    "CPI.set_index('observation_date', inplace=True)\n"
   ]
  },
  {
   "cell_type": "code",
   "execution_count": 1086,
   "metadata": {},
   "outputs": [
    {
     "name": "stdout",
     "output_type": "stream",
     "text": [
      "                  CPILFESL   log_CPI  log_CPI_lag_12  INFLATION\n",
      "observation_date                                               \n",
      "1957-01-01          28.500  3.349904             NaN        NaN\n",
      "1957-02-01          28.600  3.353407             NaN        NaN\n",
      "1957-03-01          28.700  3.356897             NaN        NaN\n",
      "1957-04-01          28.800  3.360375             NaN        NaN\n",
      "1957-05-01          28.800  3.360375             NaN        NaN\n",
      "...                    ...       ...             ...        ...\n",
      "2024-06-01         318.346  5.763139        5.730895   0.032244\n",
      "2024-07-01         318.872  5.764790        5.733163   0.031627\n",
      "2024-08-01         319.768  5.767596        5.735462   0.032134\n",
      "2024-09-01         320.767  5.770715        5.738648   0.032067\n",
      "2024-10-01         321.666  5.773514        5.741046   0.032468\n",
      "\n",
      "[814 rows x 4 columns]\n"
     ]
    }
   ],
   "source": [
    "# INFLATION - The year-over-year difference of log CPI: lnCPIt −lnCPIt−12.\n",
    "# Step 1: Compute log(CPI)\n",
    "CPI['log_CPI'] = np.log(CPI['CPILFESL'])\n",
    "# Step 2: Shift log(CPI) by 12 months\n",
    "CPI['log_CPI_lag_12'] = CPI['log_CPI'].shift(12)\n",
    "# Step 3: Compute year-over-year difference\n",
    "CPI['INFLATION'] = CPI['log_CPI'] - CPI['log_CPI_lag_12']\n",
    "print(CPI)"
   ]
  },
  {
   "cell_type": "code",
   "execution_count": 1087,
   "metadata": {},
   "outputs": [],
   "source": [
    "CPI.reset_index(inplace=True)\n",
    " "
   ]
  },
  {
   "cell_type": "code",
   "execution_count": 1088,
   "metadata": {},
   "outputs": [
    {
     "data": {
      "text/html": [
       "<div>\n",
       "<style scoped>\n",
       "    .dataframe tbody tr th:only-of-type {\n",
       "        vertical-align: middle;\n",
       "    }\n",
       "\n",
       "    .dataframe tbody tr th {\n",
       "        vertical-align: top;\n",
       "    }\n",
       "\n",
       "    .dataframe thead th {\n",
       "        text-align: right;\n",
       "    }\n",
       "</style>\n",
       "<table border=\"1\" class=\"dataframe\">\n",
       "  <thead>\n",
       "    <tr style=\"text-align: right;\">\n",
       "      <th></th>\n",
       "      <th>observation_date</th>\n",
       "      <th>CPILFESL</th>\n",
       "      <th>log_CPI</th>\n",
       "      <th>log_CPI_lag_12</th>\n",
       "      <th>INFLATION</th>\n",
       "    </tr>\n",
       "  </thead>\n",
       "  <tbody>\n",
       "    <tr>\n",
       "      <th>0</th>\n",
       "      <td>1957-01-01</td>\n",
       "      <td>28.500</td>\n",
       "      <td>3.349904</td>\n",
       "      <td>NaN</td>\n",
       "      <td>NaN</td>\n",
       "    </tr>\n",
       "    <tr>\n",
       "      <th>1</th>\n",
       "      <td>1957-02-01</td>\n",
       "      <td>28.600</td>\n",
       "      <td>3.353407</td>\n",
       "      <td>NaN</td>\n",
       "      <td>NaN</td>\n",
       "    </tr>\n",
       "    <tr>\n",
       "      <th>2</th>\n",
       "      <td>1957-03-01</td>\n",
       "      <td>28.700</td>\n",
       "      <td>3.356897</td>\n",
       "      <td>NaN</td>\n",
       "      <td>NaN</td>\n",
       "    </tr>\n",
       "    <tr>\n",
       "      <th>3</th>\n",
       "      <td>1957-04-01</td>\n",
       "      <td>28.800</td>\n",
       "      <td>3.360375</td>\n",
       "      <td>NaN</td>\n",
       "      <td>NaN</td>\n",
       "    </tr>\n",
       "    <tr>\n",
       "      <th>4</th>\n",
       "      <td>1957-05-01</td>\n",
       "      <td>28.800</td>\n",
       "      <td>3.360375</td>\n",
       "      <td>NaN</td>\n",
       "      <td>NaN</td>\n",
       "    </tr>\n",
       "    <tr>\n",
       "      <th>...</th>\n",
       "      <td>...</td>\n",
       "      <td>...</td>\n",
       "      <td>...</td>\n",
       "      <td>...</td>\n",
       "      <td>...</td>\n",
       "    </tr>\n",
       "    <tr>\n",
       "      <th>809</th>\n",
       "      <td>2024-06-01</td>\n",
       "      <td>318.346</td>\n",
       "      <td>5.763139</td>\n",
       "      <td>5.730895</td>\n",
       "      <td>0.032244</td>\n",
       "    </tr>\n",
       "    <tr>\n",
       "      <th>810</th>\n",
       "      <td>2024-07-01</td>\n",
       "      <td>318.872</td>\n",
       "      <td>5.764790</td>\n",
       "      <td>5.733163</td>\n",
       "      <td>0.031627</td>\n",
       "    </tr>\n",
       "    <tr>\n",
       "      <th>811</th>\n",
       "      <td>2024-08-01</td>\n",
       "      <td>319.768</td>\n",
       "      <td>5.767596</td>\n",
       "      <td>5.735462</td>\n",
       "      <td>0.032134</td>\n",
       "    </tr>\n",
       "    <tr>\n",
       "      <th>812</th>\n",
       "      <td>2024-09-01</td>\n",
       "      <td>320.767</td>\n",
       "      <td>5.770715</td>\n",
       "      <td>5.738648</td>\n",
       "      <td>0.032067</td>\n",
       "    </tr>\n",
       "    <tr>\n",
       "      <th>813</th>\n",
       "      <td>2024-10-01</td>\n",
       "      <td>321.666</td>\n",
       "      <td>5.773514</td>\n",
       "      <td>5.741046</td>\n",
       "      <td>0.032468</td>\n",
       "    </tr>\n",
       "  </tbody>\n",
       "</table>\n",
       "<p>814 rows × 5 columns</p>\n",
       "</div>"
      ],
      "text/plain": [
       "    observation_date  CPILFESL   log_CPI  log_CPI_lag_12  INFLATION\n",
       "0         1957-01-01    28.500  3.349904             NaN        NaN\n",
       "1         1957-02-01    28.600  3.353407             NaN        NaN\n",
       "2         1957-03-01    28.700  3.356897             NaN        NaN\n",
       "3         1957-04-01    28.800  3.360375             NaN        NaN\n",
       "4         1957-05-01    28.800  3.360375             NaN        NaN\n",
       "..               ...       ...       ...             ...        ...\n",
       "809       2024-06-01   318.346  5.763139        5.730895   0.032244\n",
       "810       2024-07-01   318.872  5.764790        5.733163   0.031627\n",
       "811       2024-08-01   319.768  5.767596        5.735462   0.032134\n",
       "812       2024-09-01   320.767  5.770715        5.738648   0.032067\n",
       "813       2024-10-01   321.666  5.773514        5.741046   0.032468\n",
       "\n",
       "[814 rows x 5 columns]"
      ]
     },
     "execution_count": 1088,
     "metadata": {},
     "output_type": "execute_result"
    }
   ],
   "source": [
    "CPI"
   ]
  },
  {
   "cell_type": "code",
   "execution_count": 1089,
   "metadata": {},
   "outputs": [],
   "source": [
    "INFLATION = CPI['INFLATION']"
   ]
  },
  {
   "cell_type": "code",
   "execution_count": 1090,
   "metadata": {},
   "outputs": [
    {
     "name": "stdout",
     "output_type": "stream",
     "text": [
      "0          NaN\n",
      "1          NaN\n",
      "2          NaN\n",
      "3          NaN\n",
      "4          NaN\n",
      "5          NaN\n",
      "6          NaN\n",
      "7          NaN\n",
      "8          NaN\n",
      "9          NaN\n",
      "10         NaN\n",
      "11         NaN\n",
      "12    0.027683\n",
      "Name: INFLATION, dtype: float64\n"
     ]
    }
   ],
   "source": [
    "print(INFLATION.head(13))\n"
   ]
  },
  {
   "cell_type": "markdown",
   "metadata": {},
   "source": [
    "ANALYSIS"
   ]
  },
  {
   "cell_type": "code",
   "execution_count": 1091,
   "metadata": {},
   "outputs": [
    {
     "data": {
      "text/plain": [
       "(814,)"
      ]
     },
     "execution_count": 1091,
     "metadata": {},
     "output_type": "execute_result"
    }
   ],
   "source": [
    "#number of rows of each dataframe\n",
    "INFLATION.shape\n",
    "\n",
    "\n"
   ]
  },
  {
   "cell_type": "code",
   "execution_count": 1092,
   "metadata": {},
   "outputs": [],
   "source": [
    "#Split the data into in sample and out of sample\n",
    "\n",
    "#have to start from 12 because INFLATION has no numbers for the first 12 columns\n",
    "\n",
    "#814-12 = 802, 802/2 = 401 obs in each split of data, so start from 12 go to 12+401 = \n",
    "\n",
    "#in sample _train, out of sample _test\n",
    "vwm_train = vwm['Rm'][12:413]\n",
    "vwm_test = vwm['Rm'][413:]\n",
    "\n",
    "ff_train = ff[12:413]\n",
    "ff_test = ff[413:]\n",
    "\n",
    "TERM_train = TERM[12:413]\n",
    "TERM_test = TERM[413:]\n",
    "\n",
    "CURVE_train = CURVE[12:413]\n",
    "CURVE_test = CURVE[413:]\n",
    "\n",
    "DEFAULT_train = DEFAULT[12:413]\n",
    "DEFAULT_test = DEFAULT[413:]\n",
    "\n",
    "INFLATION_train = INFLATION[12:413]\n",
    "INFLATION_test = INFLATION[413:]\n",
    "\n",
    "UR_train = UR[12:413]\n",
    "UR_test = UR[413:]\n",
    "\n",
    "INDPRO_train = INDPRO[12:413]\n",
    "INDPRO_test = INDPRO[413:]\n",
    "\n"
   ]
  },
  {
   "cell_type": "code",
   "execution_count": 1093,
   "metadata": {},
   "outputs": [
    {
     "data": {
      "text/plain": [
       "12     4.94\n",
       "13    -1.40\n",
       "14     3.36\n",
       "15     3.17\n",
       "16     2.42\n",
       "       ... \n",
       "408    5.21\n",
       "409    7.67\n",
       "410    3.09\n",
       "411    0.25\n",
       "412    4.12\n",
       "Name: Rm, Length: 401, dtype: float64"
      ]
     },
     "execution_count": 1093,
     "metadata": {},
     "output_type": "execute_result"
    }
   ],
   "source": [
    "vwm_train"
   ]
  },
  {
   "cell_type": "markdown",
   "metadata": {},
   "source": [
    "# Question 1"
   ]
  },
  {
   "cell_type": "markdown",
   "metadata": {},
   "source": [
    "# KITCHEN SINK MODEL in sample (all available data)"
   ]
  },
  {
   "cell_type": "markdown",
   "metadata": {},
   "source": [
    "## FOR VWM "
   ]
  },
  {
   "cell_type": "code",
   "execution_count": 1094,
   "metadata": {},
   "outputs": [],
   "source": [
    "import statsmodels.api as sm\n",
    "from IPython.display import HTML"
   ]
  },
  {
   "cell_type": "code",
   "execution_count": 1095,
   "metadata": {},
   "outputs": [],
   "source": [
    "#construct dataframe containing all regressors\n",
    "factors = pd.DataFrame()\n",
    "factors['Term'] = TERM[12:]\n",
    "factors['Curve'] = CURVE[12:]\n",
    "factors['Default'] = DEFAULT[12:]\n",
    "factors['Inflation'] = INFLATION[12:]\n",
    "factors['Unemployment'] = UR['UNRATE'][12:]\n",
    "factors['Industrial Productivity'] = INDPRO['INDPRO'][12:]"
   ]
  },
  {
   "cell_type": "code",
   "execution_count": 1096,
   "metadata": {},
   "outputs": [
    {
     "data": {
      "text/html": [
       "<div>\n",
       "<style scoped>\n",
       "    .dataframe tbody tr th:only-of-type {\n",
       "        vertical-align: middle;\n",
       "    }\n",
       "\n",
       "    .dataframe tbody tr th {\n",
       "        vertical-align: top;\n",
       "    }\n",
       "\n",
       "    .dataframe thead th {\n",
       "        text-align: right;\n",
       "    }\n",
       "</style>\n",
       "<table border=\"1\" class=\"dataframe\">\n",
       "  <thead>\n",
       "    <tr style=\"text-align: right;\">\n",
       "      <th></th>\n",
       "      <th>Unnamed: 0</th>\n",
       "      <th>Mkt-RF</th>\n",
       "      <th>SMB</th>\n",
       "      <th>HML</th>\n",
       "      <th>RF</th>\n",
       "      <th>Rm</th>\n",
       "    </tr>\n",
       "  </thead>\n",
       "  <tbody>\n",
       "    <tr>\n",
       "      <th>0</th>\n",
       "      <td>195701</td>\n",
       "      <td>-3.58</td>\n",
       "      <td>3.37</td>\n",
       "      <td>2.81</td>\n",
       "      <td>0.27</td>\n",
       "      <td>-3.31</td>\n",
       "    </tr>\n",
       "    <tr>\n",
       "      <th>1</th>\n",
       "      <td>195702</td>\n",
       "      <td>-2.06</td>\n",
       "      <td>-0.72</td>\n",
       "      <td>-0.72</td>\n",
       "      <td>0.24</td>\n",
       "      <td>-1.82</td>\n",
       "    </tr>\n",
       "    <tr>\n",
       "      <th>2</th>\n",
       "      <td>195703</td>\n",
       "      <td>2.13</td>\n",
       "      <td>0.26</td>\n",
       "      <td>-0.48</td>\n",
       "      <td>0.23</td>\n",
       "      <td>2.36</td>\n",
       "    </tr>\n",
       "    <tr>\n",
       "      <th>3</th>\n",
       "      <td>195704</td>\n",
       "      <td>4.26</td>\n",
       "      <td>-1.59</td>\n",
       "      <td>-1.45</td>\n",
       "      <td>0.25</td>\n",
       "      <td>4.51</td>\n",
       "    </tr>\n",
       "    <tr>\n",
       "      <th>4</th>\n",
       "      <td>195705</td>\n",
       "      <td>3.45</td>\n",
       "      <td>-1.05</td>\n",
       "      <td>-2.10</td>\n",
       "      <td>0.26</td>\n",
       "      <td>3.71</td>\n",
       "    </tr>\n",
       "    <tr>\n",
       "      <th>...</th>\n",
       "      <td>...</td>\n",
       "      <td>...</td>\n",
       "      <td>...</td>\n",
       "      <td>...</td>\n",
       "      <td>...</td>\n",
       "      <td>...</td>\n",
       "    </tr>\n",
       "    <tr>\n",
       "      <th>809</th>\n",
       "      <td>202406</td>\n",
       "      <td>2.77</td>\n",
       "      <td>-3.06</td>\n",
       "      <td>-3.31</td>\n",
       "      <td>0.41</td>\n",
       "      <td>3.18</td>\n",
       "    </tr>\n",
       "    <tr>\n",
       "      <th>810</th>\n",
       "      <td>202407</td>\n",
       "      <td>1.24</td>\n",
       "      <td>6.80</td>\n",
       "      <td>5.74</td>\n",
       "      <td>0.45</td>\n",
       "      <td>1.69</td>\n",
       "    </tr>\n",
       "    <tr>\n",
       "      <th>811</th>\n",
       "      <td>202408</td>\n",
       "      <td>1.61</td>\n",
       "      <td>-3.55</td>\n",
       "      <td>-1.13</td>\n",
       "      <td>0.48</td>\n",
       "      <td>2.09</td>\n",
       "    </tr>\n",
       "    <tr>\n",
       "      <th>812</th>\n",
       "      <td>202409</td>\n",
       "      <td>1.74</td>\n",
       "      <td>-0.17</td>\n",
       "      <td>-2.59</td>\n",
       "      <td>0.40</td>\n",
       "      <td>2.14</td>\n",
       "    </tr>\n",
       "    <tr>\n",
       "      <th>813</th>\n",
       "      <td>202410</td>\n",
       "      <td>-0.97</td>\n",
       "      <td>-1.00</td>\n",
       "      <td>0.89</td>\n",
       "      <td>0.39</td>\n",
       "      <td>-0.58</td>\n",
       "    </tr>\n",
       "  </tbody>\n",
       "</table>\n",
       "<p>814 rows × 6 columns</p>\n",
       "</div>"
      ],
      "text/plain": [
       "     Unnamed: 0  Mkt-RF   SMB   HML    RF    Rm\n",
       "0        195701   -3.58  3.37  2.81  0.27 -3.31\n",
       "1        195702   -2.06 -0.72 -0.72  0.24 -1.82\n",
       "2        195703    2.13  0.26 -0.48  0.23  2.36\n",
       "3        195704    4.26 -1.59 -1.45  0.25  4.51\n",
       "4        195705    3.45 -1.05 -2.10  0.26  3.71\n",
       "..          ...     ...   ...   ...   ...   ...\n",
       "809      202406    2.77 -3.06 -3.31  0.41  3.18\n",
       "810      202407    1.24  6.80  5.74  0.45  1.69\n",
       "811      202408    1.61 -3.55 -1.13  0.48  2.09\n",
       "812      202409    1.74 -0.17 -2.59  0.40  2.14\n",
       "813      202410   -0.97 -1.00  0.89  0.39 -0.58\n",
       "\n",
       "[814 rows x 6 columns]"
      ]
     },
     "execution_count": 1096,
     "metadata": {},
     "output_type": "execute_result"
    }
   ],
   "source": [
    "vwm"
   ]
  },
  {
   "cell_type": "code",
   "execution_count": 1097,
   "metadata": {},
   "outputs": [],
   "source": [
    "vwm_kitchen_sink = vwm['Rm'][12:]\n"
   ]
  },
  {
   "cell_type": "code",
   "execution_count": 1098,
   "metadata": {},
   "outputs": [
    {
     "data": {
      "text/html": [
       "<div>\n",
       "<style scoped>\n",
       "    .dataframe tbody tr th:only-of-type {\n",
       "        vertical-align: middle;\n",
       "    }\n",
       "\n",
       "    .dataframe tbody tr th {\n",
       "        vertical-align: top;\n",
       "    }\n",
       "\n",
       "    .dataframe thead th {\n",
       "        text-align: right;\n",
       "    }\n",
       "</style>\n",
       "<table border=\"1\" class=\"dataframe\">\n",
       "  <thead>\n",
       "    <tr style=\"text-align: right;\">\n",
       "      <th></th>\n",
       "      <th>const</th>\n",
       "      <th>Term</th>\n",
       "      <th>Curve</th>\n",
       "      <th>Default</th>\n",
       "      <th>Inflation</th>\n",
       "      <th>Unemployment</th>\n",
       "      <th>Industrial Productivity</th>\n",
       "    </tr>\n",
       "  </thead>\n",
       "  <tbody>\n",
       "    <tr>\n",
       "      <th>12</th>\n",
       "      <td>1.0</td>\n",
       "      <td>0.44</td>\n",
       "      <td>-0.02</td>\n",
       "      <td>-1.23</td>\n",
       "      <td>0.027683</td>\n",
       "      <td>5.8</td>\n",
       "      <td>20.1606</td>\n",
       "    </tr>\n",
       "    <tr>\n",
       "      <th>13</th>\n",
       "      <td>1.0</td>\n",
       "      <td>1.06</td>\n",
       "      <td>-0.52</td>\n",
       "      <td>-1.07</td>\n",
       "      <td>0.027588</td>\n",
       "      <td>6.4</td>\n",
       "      <td>19.7305</td>\n",
       "    </tr>\n",
       "    <tr>\n",
       "      <th>14</th>\n",
       "      <td>1.0</td>\n",
       "      <td>1.14</td>\n",
       "      <td>-0.46</td>\n",
       "      <td>-1.05</td>\n",
       "      <td>0.027493</td>\n",
       "      <td>6.7</td>\n",
       "      <td>19.4885</td>\n",
       "    </tr>\n",
       "    <tr>\n",
       "      <th>15</th>\n",
       "      <td>1.0</td>\n",
       "      <td>1.43</td>\n",
       "      <td>-0.59</td>\n",
       "      <td>-1.07</td>\n",
       "      <td>0.024015</td>\n",
       "      <td>7.4</td>\n",
       "      <td>19.1660</td>\n",
       "    </tr>\n",
       "    <tr>\n",
       "      <th>16</th>\n",
       "      <td>1.0</td>\n",
       "      <td>1.55</td>\n",
       "      <td>-0.53</td>\n",
       "      <td>-1.05</td>\n",
       "      <td>0.024015</td>\n",
       "      <td>7.4</td>\n",
       "      <td>19.3541</td>\n",
       "    </tr>\n",
       "  </tbody>\n",
       "</table>\n",
       "</div>"
      ],
      "text/plain": [
       "    const  Term  Curve  Default  Inflation  Unemployment  \\\n",
       "12    1.0  0.44  -0.02    -1.23   0.027683           5.8   \n",
       "13    1.0  1.06  -0.52    -1.07   0.027588           6.4   \n",
       "14    1.0  1.14  -0.46    -1.05   0.027493           6.7   \n",
       "15    1.0  1.43  -0.59    -1.07   0.024015           7.4   \n",
       "16    1.0  1.55  -0.53    -1.05   0.024015           7.4   \n",
       "\n",
       "    Industrial Productivity  \n",
       "12                  20.1606  \n",
       "13                  19.7305  \n",
       "14                  19.4885  \n",
       "15                  19.1660  \n",
       "16                  19.3541  "
      ]
     },
     "execution_count": 1098,
     "metadata": {},
     "output_type": "execute_result"
    }
   ],
   "source": [
    "factors_w_constant = sm.add_constant(factors)\n",
    "factors_w_constant.head()"
   ]
  },
  {
   "cell_type": "code",
   "execution_count": 1099,
   "metadata": {},
   "outputs": [],
   "source": [
    "heter_results_vwm = {}\n",
    "homosk_results_vwm = {}\n",
    "\n",
    "mod = sm.OLS(vwm_kitchen_sink, factors_w_constant)\n",
    "heter_results_vwm = mod.fit(cov_type=\"HC0\")\n",
    "homosk_results_vwm = sm.OLS(vwm_kitchen_sink, factors_w_constant).fit()\n"
   ]
  },
  {
   "cell_type": "code",
   "execution_count": 1100,
   "metadata": {},
   "outputs": [
    {
     "data": {
      "text/html": [
       "<table class=\"simpletable\">\n",
       "<caption>OLS Regression Results</caption>\n",
       "<tr>\n",
       "  <th>Dep. Variable:</th>           <td>Rm</td>        <th>  R-squared:         </th> <td>   0.019</td>\n",
       "</tr>\n",
       "<tr>\n",
       "  <th>Model:</th>                   <td>OLS</td>       <th>  Adj. R-squared:    </th> <td>   0.012</td>\n",
       "</tr>\n",
       "<tr>\n",
       "  <th>Method:</th>             <td>Least Squares</td>  <th>  F-statistic:       </th> <td>   2.223</td>\n",
       "</tr>\n",
       "<tr>\n",
       "  <th>Date:</th>             <td>Mon, 13 Jan 2025</td> <th>  Prob (F-statistic):</th>  <td>0.0391</td> \n",
       "</tr>\n",
       "<tr>\n",
       "  <th>Time:</th>                 <td>17:59:41</td>     <th>  Log-Likelihood:    </th> <td> -2318.9</td>\n",
       "</tr>\n",
       "<tr>\n",
       "  <th>No. Observations:</th>      <td>   802</td>      <th>  AIC:               </th> <td>   4652.</td>\n",
       "</tr>\n",
       "<tr>\n",
       "  <th>Df Residuals:</th>          <td>   795</td>      <th>  BIC:               </th> <td>   4685.</td>\n",
       "</tr>\n",
       "<tr>\n",
       "  <th>Df Model:</th>              <td>     6</td>      <th>                     </th>     <td> </td>   \n",
       "</tr>\n",
       "<tr>\n",
       "  <th>Covariance Type:</th>         <td>HC0</td>       <th>                     </th>     <td> </td>   \n",
       "</tr>\n",
       "</table>\n",
       "<table class=\"simpletable\">\n",
       "<tr>\n",
       "             <td></td>                <th>coef</th>     <th>std err</th>      <th>z</th>      <th>P>|z|</th>  <th>[0.025</th>    <th>0.975]</th>  \n",
       "</tr>\n",
       "<tr>\n",
       "  <th>const</th>                   <td>   -0.7570</td> <td>    0.965</td> <td>   -0.784</td> <td> 0.433</td> <td>   -2.649</td> <td>    1.135</td>\n",
       "</tr>\n",
       "<tr>\n",
       "  <th>Term</th>                    <td>   -0.0293</td> <td>    0.352</td> <td>   -0.083</td> <td> 0.934</td> <td>   -0.719</td> <td>    0.660</td>\n",
       "</tr>\n",
       "<tr>\n",
       "  <th>Curve</th>                   <td>    0.2557</td> <td>    0.537</td> <td>    0.476</td> <td> 0.634</td> <td>   -0.797</td> <td>    1.308</td>\n",
       "</tr>\n",
       "<tr>\n",
       "  <th>Default</th>                 <td>    0.0913</td> <td>    0.781</td> <td>    0.117</td> <td> 0.907</td> <td>   -1.438</td> <td>    1.621</td>\n",
       "</tr>\n",
       "<tr>\n",
       "  <th>Inflation</th>               <td>   -7.7901</td> <td>   10.629</td> <td>   -0.733</td> <td> 0.464</td> <td>  -28.623</td> <td>   13.043</td>\n",
       "</tr>\n",
       "<tr>\n",
       "  <th>Unemployment</th>            <td>    0.4021</td> <td>    0.184</td> <td>    2.190</td> <td> 0.028</td> <td>    0.042</td> <td>    0.762</td>\n",
       "</tr>\n",
       "<tr>\n",
       "  <th>Industrial Productivity</th> <td>   -0.0026</td> <td>    0.008</td> <td>   -0.330</td> <td> 0.741</td> <td>   -0.018</td> <td>    0.013</td>\n",
       "</tr>\n",
       "</table>\n",
       "<table class=\"simpletable\">\n",
       "<tr>\n",
       "  <th>Omnibus:</th>       <td>64.074</td> <th>  Durbin-Watson:     </th> <td>   1.933</td>\n",
       "</tr>\n",
       "<tr>\n",
       "  <th>Prob(Omnibus):</th> <td> 0.000</td> <th>  Jarque-Bera (JB):  </th> <td> 127.705</td>\n",
       "</tr>\n",
       "<tr>\n",
       "  <th>Skew:</th>          <td>-0.503</td> <th>  Prob(JB):          </th> <td>1.86e-28</td>\n",
       "</tr>\n",
       "<tr>\n",
       "  <th>Kurtosis:</th>      <td> 4.676</td> <th>  Cond. No.          </th> <td>4.18e+03</td>\n",
       "</tr>\n",
       "</table><br/><br/>Notes:<br/>[1] Standard Errors are heteroscedasticity robust (HC0)<br/>[2] The condition number is large, 4.18e+03. This might indicate that there are<br/>strong multicollinearity or other numerical problems."
      ],
      "text/latex": [
       "\\begin{center}\n",
       "\\begin{tabular}{lclc}\n",
       "\\toprule\n",
       "\\textbf{Dep. Variable:}          &        Rm        & \\textbf{  R-squared:         } &     0.019   \\\\\n",
       "\\textbf{Model:}                  &       OLS        & \\textbf{  Adj. R-squared:    } &     0.012   \\\\\n",
       "\\textbf{Method:}                 &  Least Squares   & \\textbf{  F-statistic:       } &     2.223   \\\\\n",
       "\\textbf{Date:}                   & Mon, 13 Jan 2025 & \\textbf{  Prob (F-statistic):} &   0.0391    \\\\\n",
       "\\textbf{Time:}                   &     17:59:41     & \\textbf{  Log-Likelihood:    } &   -2318.9   \\\\\n",
       "\\textbf{No. Observations:}       &         802      & \\textbf{  AIC:               } &     4652.   \\\\\n",
       "\\textbf{Df Residuals:}           &         795      & \\textbf{  BIC:               } &     4685.   \\\\\n",
       "\\textbf{Df Model:}               &           6      & \\textbf{                     } &             \\\\\n",
       "\\textbf{Covariance Type:}        &       HC0        & \\textbf{                     } &             \\\\\n",
       "\\bottomrule\n",
       "\\end{tabular}\n",
       "\\begin{tabular}{lcccccc}\n",
       "                                 & \\textbf{coef} & \\textbf{std err} & \\textbf{z} & \\textbf{P$> |$z$|$} & \\textbf{[0.025} & \\textbf{0.975]}  \\\\\n",
       "\\midrule\n",
       "\\textbf{const}                   &      -0.7570  &        0.965     &    -0.784  &         0.433        &       -2.649    &        1.135     \\\\\n",
       "\\textbf{Term}                    &      -0.0293  &        0.352     &    -0.083  &         0.934        &       -0.719    &        0.660     \\\\\n",
       "\\textbf{Curve}                   &       0.2557  &        0.537     &     0.476  &         0.634        &       -0.797    &        1.308     \\\\\n",
       "\\textbf{Default}                 &       0.0913  &        0.781     &     0.117  &         0.907        &       -1.438    &        1.621     \\\\\n",
       "\\textbf{Inflation}               &      -7.7901  &       10.629     &    -0.733  &         0.464        &      -28.623    &       13.043     \\\\\n",
       "\\textbf{Unemployment}            &       0.4021  &        0.184     &     2.190  &         0.028        &        0.042    &        0.762     \\\\\n",
       "\\textbf{Industrial Productivity} &      -0.0026  &        0.008     &    -0.330  &         0.741        &       -0.018    &        0.013     \\\\\n",
       "\\bottomrule\n",
       "\\end{tabular}\n",
       "\\begin{tabular}{lclc}\n",
       "\\textbf{Omnibus:}       & 64.074 & \\textbf{  Durbin-Watson:     } &    1.933  \\\\\n",
       "\\textbf{Prob(Omnibus):} &  0.000 & \\textbf{  Jarque-Bera (JB):  } &  127.705  \\\\\n",
       "\\textbf{Skew:}          & -0.503 & \\textbf{  Prob(JB):          } & 1.86e-28  \\\\\n",
       "\\textbf{Kurtosis:}      &  4.676 & \\textbf{  Cond. No.          } & 4.18e+03  \\\\\n",
       "\\bottomrule\n",
       "\\end{tabular}\n",
       "%\\caption{OLS Regression Results}\n",
       "\\end{center}\n",
       "\n",
       "Notes: \\newline\n",
       " [1] Standard Errors are heteroscedasticity robust (HC0) \\newline\n",
       " [2] The condition number is large, 4.18e+03. This might indicate that there are \\newline\n",
       " strong multicollinearity or other numerical problems."
      ],
      "text/plain": [
       "<class 'statsmodels.iolib.summary.Summary'>\n",
       "\"\"\"\n",
       "                            OLS Regression Results                            \n",
       "==============================================================================\n",
       "Dep. Variable:                     Rm   R-squared:                       0.019\n",
       "Model:                            OLS   Adj. R-squared:                  0.012\n",
       "Method:                 Least Squares   F-statistic:                     2.223\n",
       "Date:                Mon, 13 Jan 2025   Prob (F-statistic):             0.0391\n",
       "Time:                        17:59:41   Log-Likelihood:                -2318.9\n",
       "No. Observations:                 802   AIC:                             4652.\n",
       "Df Residuals:                     795   BIC:                             4685.\n",
       "Df Model:                           6                                         \n",
       "Covariance Type:                  HC0                                         \n",
       "===========================================================================================\n",
       "                              coef    std err          z      P>|z|      [0.025      0.975]\n",
       "-------------------------------------------------------------------------------------------\n",
       "const                      -0.7570      0.965     -0.784      0.433      -2.649       1.135\n",
       "Term                       -0.0293      0.352     -0.083      0.934      -0.719       0.660\n",
       "Curve                       0.2557      0.537      0.476      0.634      -0.797       1.308\n",
       "Default                     0.0913      0.781      0.117      0.907      -1.438       1.621\n",
       "Inflation                  -7.7901     10.629     -0.733      0.464     -28.623      13.043\n",
       "Unemployment                0.4021      0.184      2.190      0.028       0.042       0.762\n",
       "Industrial Productivity    -0.0026      0.008     -0.330      0.741      -0.018       0.013\n",
       "==============================================================================\n",
       "Omnibus:                       64.074   Durbin-Watson:                   1.933\n",
       "Prob(Omnibus):                  0.000   Jarque-Bera (JB):              127.705\n",
       "Skew:                          -0.503   Prob(JB):                     1.86e-28\n",
       "Kurtosis:                       4.676   Cond. No.                     4.18e+03\n",
       "==============================================================================\n",
       "\n",
       "Notes:\n",
       "[1] Standard Errors are heteroscedasticity robust (HC0)\n",
       "[2] The condition number is large, 4.18e+03. This might indicate that there are\n",
       "strong multicollinearity or other numerical problems.\n",
       "\"\"\""
      ]
     },
     "execution_count": 1100,
     "metadata": {},
     "output_type": "execute_result"
    }
   ],
   "source": [
    "heter_results_vwm.summary()"
   ]
  },
  {
   "cell_type": "markdown",
   "metadata": {},
   "source": [
    "## FOR FF"
   ]
  },
  {
   "cell_type": "code",
   "execution_count": 1101,
   "metadata": {},
   "outputs": [],
   "source": [
    "ff_kitchen_sink = ff['Mom   '][12:]"
   ]
  },
  {
   "cell_type": "code",
   "execution_count": 1102,
   "metadata": {},
   "outputs": [],
   "source": [
    "heter_results_ff = {}\n",
    "homosk_results_ff = {}\n",
    "\n",
    "mod = sm.OLS(ff_kitchen_sink, factors_w_constant)\n",
    "heter_results_ff = mod.fit(cov_type=\"HC0\")\n",
    "homosk_results_ff = sm.OLS(ff_kitchen_sink, factors_w_constant).fit()\n"
   ]
  },
  {
   "cell_type": "code",
   "execution_count": 1103,
   "metadata": {},
   "outputs": [
    {
     "data": {
      "text/html": [
       "<table class=\"simpletable\">\n",
       "<caption>OLS Regression Results</caption>\n",
       "<tr>\n",
       "  <th>Dep. Variable:</th>         <td>Mom   </td>      <th>  R-squared:         </th> <td>   0.026</td>\n",
       "</tr>\n",
       "<tr>\n",
       "  <th>Model:</th>                   <td>OLS</td>       <th>  Adj. R-squared:    </th> <td>   0.019</td>\n",
       "</tr>\n",
       "<tr>\n",
       "  <th>Method:</th>             <td>Least Squares</td>  <th>  F-statistic:       </th> <td>   1.208</td>\n",
       "</tr>\n",
       "<tr>\n",
       "  <th>Date:</th>             <td>Mon, 13 Jan 2025</td> <th>  Prob (F-statistic):</th>  <td> 0.300</td> \n",
       "</tr>\n",
       "<tr>\n",
       "  <th>Time:</th>                 <td>17:59:41</td>     <th>  Log-Likelihood:    </th> <td> -2256.9</td>\n",
       "</tr>\n",
       "<tr>\n",
       "  <th>No. Observations:</th>      <td>   802</td>      <th>  AIC:               </th> <td>   4528.</td>\n",
       "</tr>\n",
       "<tr>\n",
       "  <th>Df Residuals:</th>          <td>   795</td>      <th>  BIC:               </th> <td>   4561.</td>\n",
       "</tr>\n",
       "<tr>\n",
       "  <th>Df Model:</th>              <td>     6</td>      <th>                     </th>     <td> </td>   \n",
       "</tr>\n",
       "<tr>\n",
       "  <th>Covariance Type:</th>         <td>HC0</td>       <th>                     </th>     <td> </td>   \n",
       "</tr>\n",
       "</table>\n",
       "<table class=\"simpletable\">\n",
       "<tr>\n",
       "             <td></td>                <th>coef</th>     <th>std err</th>      <th>z</th>      <th>P>|z|</th>  <th>[0.025</th>    <th>0.975]</th>  \n",
       "</tr>\n",
       "<tr>\n",
       "  <th>const</th>                   <td>    1.0814</td> <td>    0.806</td> <td>    1.341</td> <td> 0.180</td> <td>   -0.499</td> <td>    2.662</td>\n",
       "</tr>\n",
       "<tr>\n",
       "  <th>Term</th>                    <td>   -0.2937</td> <td>    0.332</td> <td>   -0.884</td> <td> 0.377</td> <td>   -0.945</td> <td>    0.358</td>\n",
       "</tr>\n",
       "<tr>\n",
       "  <th>Curve</th>                   <td>   -0.7099</td> <td>    0.549</td> <td>   -1.292</td> <td> 0.196</td> <td>   -1.787</td> <td>    0.367</td>\n",
       "</tr>\n",
       "<tr>\n",
       "  <th>Default</th>                 <td>    1.6530</td> <td>    0.935</td> <td>    1.768</td> <td> 0.077</td> <td>   -0.179</td> <td>    3.485</td>\n",
       "</tr>\n",
       "<tr>\n",
       "  <th>Inflation</th>               <td>   17.2208</td> <td>   10.375</td> <td>    1.660</td> <td> 0.097</td> <td>   -3.114</td> <td>   37.556</td>\n",
       "</tr>\n",
       "<tr>\n",
       "  <th>Unemployment</th>            <td>    0.0569</td> <td>    0.160</td> <td>    0.357</td> <td> 0.721</td> <td>   -0.256</td> <td>    0.370</td>\n",
       "</tr>\n",
       "<tr>\n",
       "  <th>Industrial Productivity</th> <td>    0.0044</td> <td>    0.008</td> <td>    0.572</td> <td> 0.567</td> <td>   -0.011</td> <td>    0.019</td>\n",
       "</tr>\n",
       "</table>\n",
       "<table class=\"simpletable\">\n",
       "<tr>\n",
       "  <th>Omnibus:</th>       <td>225.479</td> <th>  Durbin-Watson:     </th> <td>   1.973</td>\n",
       "</tr>\n",
       "<tr>\n",
       "  <th>Prob(Omnibus):</th> <td> 0.000</td>  <th>  Jarque-Bera (JB):  </th> <td>2146.236</td>\n",
       "</tr>\n",
       "<tr>\n",
       "  <th>Skew:</th>          <td>-0.984</td>  <th>  Prob(JB):          </th> <td>    0.00</td>\n",
       "</tr>\n",
       "<tr>\n",
       "  <th>Kurtosis:</th>      <td>10.769</td>  <th>  Cond. No.          </th> <td>4.18e+03</td>\n",
       "</tr>\n",
       "</table><br/><br/>Notes:<br/>[1] Standard Errors are heteroscedasticity robust (HC0)<br/>[2] The condition number is large, 4.18e+03. This might indicate that there are<br/>strong multicollinearity or other numerical problems."
      ],
      "text/latex": [
       "\\begin{center}\n",
       "\\begin{tabular}{lclc}\n",
       "\\toprule\n",
       "\\textbf{Dep. Variable:}          &      Mom         & \\textbf{  R-squared:         } &     0.026   \\\\\n",
       "\\textbf{Model:}                  &       OLS        & \\textbf{  Adj. R-squared:    } &     0.019   \\\\\n",
       "\\textbf{Method:}                 &  Least Squares   & \\textbf{  F-statistic:       } &     1.208   \\\\\n",
       "\\textbf{Date:}                   & Mon, 13 Jan 2025 & \\textbf{  Prob (F-statistic):} &    0.300    \\\\\n",
       "\\textbf{Time:}                   &     17:59:41     & \\textbf{  Log-Likelihood:    } &   -2256.9   \\\\\n",
       "\\textbf{No. Observations:}       &         802      & \\textbf{  AIC:               } &     4528.   \\\\\n",
       "\\textbf{Df Residuals:}           &         795      & \\textbf{  BIC:               } &     4561.   \\\\\n",
       "\\textbf{Df Model:}               &           6      & \\textbf{                     } &             \\\\\n",
       "\\textbf{Covariance Type:}        &       HC0        & \\textbf{                     } &             \\\\\n",
       "\\bottomrule\n",
       "\\end{tabular}\n",
       "\\begin{tabular}{lcccccc}\n",
       "                                 & \\textbf{coef} & \\textbf{std err} & \\textbf{z} & \\textbf{P$> |$z$|$} & \\textbf{[0.025} & \\textbf{0.975]}  \\\\\n",
       "\\midrule\n",
       "\\textbf{const}                   &       1.0814  &        0.806     &     1.341  &         0.180        &       -0.499    &        2.662     \\\\\n",
       "\\textbf{Term}                    &      -0.2937  &        0.332     &    -0.884  &         0.377        &       -0.945    &        0.358     \\\\\n",
       "\\textbf{Curve}                   &      -0.7099  &        0.549     &    -1.292  &         0.196        &       -1.787    &        0.367     \\\\\n",
       "\\textbf{Default}                 &       1.6530  &        0.935     &     1.768  &         0.077        &       -0.179    &        3.485     \\\\\n",
       "\\textbf{Inflation}               &      17.2208  &       10.375     &     1.660  &         0.097        &       -3.114    &       37.556     \\\\\n",
       "\\textbf{Unemployment}            &       0.0569  &        0.160     &     0.357  &         0.721        &       -0.256    &        0.370     \\\\\n",
       "\\textbf{Industrial Productivity} &       0.0044  &        0.008     &     0.572  &         0.567        &       -0.011    &        0.019     \\\\\n",
       "\\bottomrule\n",
       "\\end{tabular}\n",
       "\\begin{tabular}{lclc}\n",
       "\\textbf{Omnibus:}       & 225.479 & \\textbf{  Durbin-Watson:     } &    1.973  \\\\\n",
       "\\textbf{Prob(Omnibus):} &   0.000 & \\textbf{  Jarque-Bera (JB):  } & 2146.236  \\\\\n",
       "\\textbf{Skew:}          &  -0.984 & \\textbf{  Prob(JB):          } &     0.00  \\\\\n",
       "\\textbf{Kurtosis:}      &  10.769 & \\textbf{  Cond. No.          } & 4.18e+03  \\\\\n",
       "\\bottomrule\n",
       "\\end{tabular}\n",
       "%\\caption{OLS Regression Results}\n",
       "\\end{center}\n",
       "\n",
       "Notes: \\newline\n",
       " [1] Standard Errors are heteroscedasticity robust (HC0) \\newline\n",
       " [2] The condition number is large, 4.18e+03. This might indicate that there are \\newline\n",
       " strong multicollinearity or other numerical problems."
      ],
      "text/plain": [
       "<class 'statsmodels.iolib.summary.Summary'>\n",
       "\"\"\"\n",
       "                            OLS Regression Results                            \n",
       "==============================================================================\n",
       "Dep. Variable:                 Mom      R-squared:                       0.026\n",
       "Model:                            OLS   Adj. R-squared:                  0.019\n",
       "Method:                 Least Squares   F-statistic:                     1.208\n",
       "Date:                Mon, 13 Jan 2025   Prob (F-statistic):              0.300\n",
       "Time:                        17:59:41   Log-Likelihood:                -2256.9\n",
       "No. Observations:                 802   AIC:                             4528.\n",
       "Df Residuals:                     795   BIC:                             4561.\n",
       "Df Model:                           6                                         \n",
       "Covariance Type:                  HC0                                         \n",
       "===========================================================================================\n",
       "                              coef    std err          z      P>|z|      [0.025      0.975]\n",
       "-------------------------------------------------------------------------------------------\n",
       "const                       1.0814      0.806      1.341      0.180      -0.499       2.662\n",
       "Term                       -0.2937      0.332     -0.884      0.377      -0.945       0.358\n",
       "Curve                      -0.7099      0.549     -1.292      0.196      -1.787       0.367\n",
       "Default                     1.6530      0.935      1.768      0.077      -0.179       3.485\n",
       "Inflation                  17.2208     10.375      1.660      0.097      -3.114      37.556\n",
       "Unemployment                0.0569      0.160      0.357      0.721      -0.256       0.370\n",
       "Industrial Productivity     0.0044      0.008      0.572      0.567      -0.011       0.019\n",
       "==============================================================================\n",
       "Omnibus:                      225.479   Durbin-Watson:                   1.973\n",
       "Prob(Omnibus):                  0.000   Jarque-Bera (JB):             2146.236\n",
       "Skew:                          -0.984   Prob(JB):                         0.00\n",
       "Kurtosis:                      10.769   Cond. No.                     4.18e+03\n",
       "==============================================================================\n",
       "\n",
       "Notes:\n",
       "[1] Standard Errors are heteroscedasticity robust (HC0)\n",
       "[2] The condition number is large, 4.18e+03. This might indicate that there are\n",
       "strong multicollinearity or other numerical problems.\n",
       "\"\"\""
      ]
     },
     "execution_count": 1103,
     "metadata": {},
     "output_type": "execute_result"
    }
   ],
   "source": [
    "heter_results_ff.summary()"
   ]
  },
  {
   "cell_type": "markdown",
   "metadata": {},
   "source": [
    "LEFT TO DO\n",
    "- model selection using either forward or backward selection \n",
    "- pick best model for both VWM and ff\n",
    "- use the best model to predict in sample\n",
    "- choose return threshold and weights for risky and risk free asset\n",
    "- construct portfolios with risky and risk free asset based on this weight function\n",
    "- compute sharpe ratios for these portfolios and compare it to the sharpe ratio of the original portolio??\n",
    "\n",
    "- repeat step 3 and below for out of sample"
   ]
  },
  {
   "cell_type": "markdown",
   "metadata": {},
   "source": [
    "# UNIVARIATE Regression"
   ]
  },
  {
   "cell_type": "markdown",
   "metadata": {},
   "source": []
  },
  {
   "cell_type": "markdown",
   "metadata": {},
   "source": [
    "## VWM"
   ]
  },
  {
   "cell_type": "markdown",
   "metadata": {},
   "source": []
  },
  {
   "cell_type": "code",
   "execution_count": 1104,
   "metadata": {},
   "outputs": [],
   "source": [
    "factor_names = [col for col in factors_w_constant.columns]\n",
    "\n",
    "# Run univariate regressions for each factor\n",
    "homosk_regression_results = {}\n",
    "heter_regression_results = {}\n",
    "\n",
    "for factor in factor_names:\n",
    "    X = sm.add_constant(factors_w_constant[factor])  # Add constant term\n",
    "    y = vwm_kitchen_sink\n",
    "    # Perform regression\n",
    "    model = sm.OLS(y, X)\n",
    "\n",
    "    # Store results\n",
    "    homosk_regression_results[f\"{factor}\"] = model.fit()\n",
    "    heter_regression_results[f\"{factor}\"] = model.fit(cov_type=\"HC0\")\n",
    "        \n"
   ]
  },
  {
   "cell_type": "code",
   "execution_count": 1105,
   "metadata": {},
   "outputs": [
    {
     "name": "stdout",
     "output_type": "stream",
     "text": [
      "                            OLS Regression Results                            \n",
      "==============================================================================\n",
      "Dep. Variable:                     Rm   R-squared:                       0.000\n",
      "Model:                            OLS   Adj. R-squared:                  0.000\n",
      "Method:                 Least Squares   F-statistic:                       nan\n",
      "Date:                Mon, 13 Jan 2025   Prob (F-statistic):                nan\n",
      "Time:                        17:59:41   Log-Likelihood:                -2326.6\n",
      "No. Observations:                 802   AIC:                             4655.\n",
      "Df Residuals:                     801   BIC:                             4660.\n",
      "Df Model:                           0                                         \n",
      "Covariance Type:                  HC0                                         \n",
      "==============================================================================\n",
      "                 coef    std err          z      P>|z|      [0.025      0.975]\n",
      "------------------------------------------------------------------------------\n",
      "const          0.9653      0.155      6.210      0.000       0.661       1.270\n",
      "==============================================================================\n",
      "Omnibus:                       65.041   Durbin-Watson:                   1.911\n",
      "Prob(Omnibus):                  0.000   Jarque-Bera (JB):              134.190\n",
      "Skew:                          -0.499   Prob(JB):                     7.26e-30\n",
      "Kurtosis:                       4.738   Cond. No.                         1.00\n",
      "==============================================================================\n",
      "\n",
      "Notes:\n",
      "[1] Standard Errors are heteroscedasticity robust (HC0)\n",
      "                            OLS Regression Results                            \n",
      "==============================================================================\n",
      "Dep. Variable:                     Rm   R-squared:                       0.003\n",
      "Model:                            OLS   Adj. R-squared:                  0.002\n",
      "Method:                 Least Squares   F-statistic:                     2.315\n",
      "Date:                Mon, 13 Jan 2025   Prob (F-statistic):              0.129\n",
      "Time:                        17:59:41   Log-Likelihood:                -2325.3\n",
      "No. Observations:                 802   AIC:                             4655.\n",
      "Df Residuals:                     800   BIC:                             4664.\n",
      "Df Model:                           1                                         \n",
      "Covariance Type:                  HC0                                         \n",
      "==============================================================================\n",
      "                 coef    std err          z      P>|z|      [0.025      0.975]\n",
      "------------------------------------------------------------------------------\n",
      "const          0.7570      0.214      3.543      0.000       0.338       1.176\n",
      "Term           0.2244      0.147      1.522      0.128      -0.065       0.513\n",
      "==============================================================================\n",
      "Omnibus:                       64.736   Durbin-Watson:                   1.914\n",
      "Prob(Omnibus):                  0.000   Jarque-Bera (JB):              137.142\n",
      "Skew:                          -0.489   Prob(JB):                     1.66e-30\n",
      "Kurtosis:                       4.775   Cond. No.                         2.36\n",
      "==============================================================================\n",
      "\n",
      "Notes:\n",
      "[1] Standard Errors are heteroscedasticity robust (HC0)\n",
      "                            OLS Regression Results                            \n",
      "==============================================================================\n",
      "Dep. Variable:                     Rm   R-squared:                       0.000\n",
      "Model:                            OLS   Adj. R-squared:                 -0.001\n",
      "Method:                 Least Squares   F-statistic:                    0.2454\n",
      "Date:                Mon, 13 Jan 2025   Prob (F-statistic):              0.620\n",
      "Time:                        17:59:41   Log-Likelihood:                -2326.4\n",
      "No. Observations:                 802   AIC:                             4657.\n",
      "Df Residuals:                     800   BIC:                             4666.\n",
      "Df Model:                           1                                         \n",
      "Covariance Type:                  HC0                                         \n",
      "==============================================================================\n",
      "                 coef    std err          z      P>|z|      [0.025      0.975]\n",
      "------------------------------------------------------------------------------\n",
      "const          0.9218      0.185      4.979      0.000       0.559       1.285\n",
      "Curve         -0.1402      0.283     -0.495      0.620      -0.695       0.415\n",
      "==============================================================================\n",
      "Omnibus:                       64.474   Durbin-Watson:                   1.911\n",
      "Prob(Omnibus):                  0.000   Jarque-Bera (JB):              133.304\n",
      "Skew:                          -0.495   Prob(JB):                     1.13e-29\n",
      "Kurtosis:                       4.735   Cond. No.                         2.00\n",
      "==============================================================================\n",
      "\n",
      "Notes:\n",
      "[1] Standard Errors are heteroscedasticity robust (HC0)\n",
      "                            OLS Regression Results                            \n",
      "==============================================================================\n",
      "Dep. Variable:                     Rm   R-squared:                       0.003\n",
      "Model:                            OLS   Adj. R-squared:                  0.002\n",
      "Method:                 Least Squares   F-statistic:                     1.265\n",
      "Date:                Mon, 13 Jan 2025   Prob (F-statistic):              0.261\n",
      "Time:                        17:59:41   Log-Likelihood:                -2325.4\n",
      "No. Observations:                 802   AIC:                             4655.\n",
      "Df Residuals:                     800   BIC:                             4664.\n",
      "Df Model:                           1                                         \n",
      "Covariance Type:                  HC0                                         \n",
      "==============================================================================\n",
      "                 coef    std err          z      P>|z|      [0.025      0.975]\n",
      "------------------------------------------------------------------------------\n",
      "const          0.4022      0.478      0.842      0.400      -0.534       1.339\n",
      "Default       -0.5642      0.502     -1.125      0.261      -1.547       0.419\n",
      "==============================================================================\n",
      "Omnibus:                       74.164   Durbin-Watson:                   1.910\n",
      "Prob(Omnibus):                  0.000   Jarque-Bera (JB):              150.289\n",
      "Skew:                          -0.568   Prob(JB):                     2.32e-33\n",
      "Kurtosis:                       4.791   Cond. No.                         4.93\n",
      "==============================================================================\n",
      "\n",
      "Notes:\n",
      "[1] Standard Errors are heteroscedasticity robust (HC0)\n",
      "                            OLS Regression Results                            \n",
      "==============================================================================\n",
      "Dep. Variable:                     Rm   R-squared:                       0.000\n",
      "Model:                            OLS   Adj. R-squared:                 -0.001\n",
      "Method:                 Least Squares   F-statistic:                   0.04587\n",
      "Date:                Mon, 13 Jan 2025   Prob (F-statistic):              0.830\n",
      "Time:                        17:59:41   Log-Likelihood:                -2326.5\n",
      "No. Observations:                 802   AIC:                             4657.\n",
      "Df Residuals:                     800   BIC:                             4666.\n",
      "Df Model:                           1                                         \n",
      "Covariance Type:                  HC0                                         \n",
      "==============================================================================\n",
      "                 coef    std err          z      P>|z|      [0.025      0.975]\n",
      "------------------------------------------------------------------------------\n",
      "const          1.0260      0.296      3.468      0.001       0.446       1.606\n",
      "Inflation     -1.6939      7.909     -0.214      0.830     -17.195      13.807\n",
      "==============================================================================\n",
      "Omnibus:                       64.495   Durbin-Watson:                   1.911\n",
      "Prob(Omnibus):                  0.000   Jarque-Bera (JB):              134.036\n",
      "Skew:                          -0.493   Prob(JB):                     7.84e-30\n",
      "Kurtosis:                       4.743   Cond. No.                         42.5\n",
      "==============================================================================\n",
      "\n",
      "Notes:\n",
      "[1] Standard Errors are heteroscedasticity robust (HC0)\n",
      "                            OLS Regression Results                            \n",
      "==============================================================================\n",
      "Dep. Variable:                     Rm   R-squared:                       0.017\n",
      "Model:                            OLS   Adj. R-squared:                  0.016\n",
      "Method:                 Least Squares   F-statistic:                     11.79\n",
      "Date:                Mon, 13 Jan 2025   Prob (F-statistic):           0.000626\n",
      "Time:                        17:59:41   Log-Likelihood:                -2319.8\n",
      "No. Observations:                 802   AIC:                             4644.\n",
      "Df Residuals:                     800   BIC:                             4653.\n",
      "Df Model:                           1                                         \n",
      "Covariance Type:                  HC0                                         \n",
      "================================================================================\n",
      "                   coef    std err          z      P>|z|      [0.025      0.975]\n",
      "--------------------------------------------------------------------------------\n",
      "const           -1.0395      0.600     -1.732      0.083      -2.216       0.137\n",
      "Unemployment     0.3398      0.099      3.434      0.001       0.146       0.534\n",
      "==============================================================================\n",
      "Omnibus:                       67.026   Durbin-Watson:                   1.930\n",
      "Prob(Omnibus):                  0.000   Jarque-Bera (JB):              130.992\n",
      "Skew:                          -0.530   Prob(JB):                     3.59e-29\n",
      "Kurtosis:                       4.672   Cond. No.                         23.0\n",
      "==============================================================================\n",
      "\n",
      "Notes:\n",
      "[1] Standard Errors are heteroscedasticity robust (HC0)\n",
      "                            OLS Regression Results                            \n",
      "==============================================================================\n",
      "Dep. Variable:                     Rm   R-squared:                       0.000\n",
      "Model:                            OLS   Adj. R-squared:                 -0.001\n",
      "Method:                 Least Squares   F-statistic:                    0.2810\n",
      "Date:                Mon, 13 Jan 2025   Prob (F-statistic):              0.596\n",
      "Time:                        17:59:41   Log-Likelihood:                -2326.4\n",
      "No. Observations:                 802   AIC:                             4657.\n",
      "Df Residuals:                     800   BIC:                             4666.\n",
      "Df Model:                           1                                         \n",
      "Covariance Type:                  HC0                                         \n",
      "===========================================================================================\n",
      "                              coef    std err          z      P>|z|      [0.025      0.975]\n",
      "-------------------------------------------------------------------------------------------\n",
      "const                       1.1555      0.380      3.038      0.002       0.410       1.901\n",
      "Industrial Productivity    -0.0028      0.005     -0.530      0.596      -0.013       0.008\n",
      "==============================================================================\n",
      "Omnibus:                       64.362   Durbin-Watson:                   1.911\n",
      "Prob(Omnibus):                  0.000   Jarque-Bera (JB):              132.253\n",
      "Skew:                          -0.496   Prob(JB):                     1.91e-29\n",
      "Kurtosis:                       4.725   Cond. No.                         192.\n",
      "==============================================================================\n",
      "\n",
      "Notes:\n",
      "[1] Standard Errors are heteroscedasticity robust (HC0)\n"
     ]
    }
   ],
   "source": [
    "for i in heter_regression_results:\n",
    "    print(heter_regression_results[i].summary())"
   ]
  },
  {
   "cell_type": "code",
   "execution_count": 1106,
   "metadata": {},
   "outputs": [
    {
     "data": {
      "text/plain": [
       "{'const': <statsmodels.regression.linear_model.RegressionResultsWrapper at 0x154787110>,\n",
       " 'Term': <statsmodels.regression.linear_model.RegressionResultsWrapper at 0x152224710>,\n",
       " 'Curve': <statsmodels.regression.linear_model.RegressionResultsWrapper at 0x154d2e510>,\n",
       " 'Default': <statsmodels.regression.linear_model.RegressionResultsWrapper at 0x154eb7d10>,\n",
       " 'Inflation': <statsmodels.regression.linear_model.RegressionResultsWrapper at 0x154eb7e90>,\n",
       " 'Unemployment': <statsmodels.regression.linear_model.RegressionResultsWrapper at 0x154eb6780>,\n",
       " 'Industrial Productivity': <statsmodels.regression.linear_model.RegressionResultsWrapper at 0x154eb6450>}"
      ]
     },
     "execution_count": 1106,
     "metadata": {},
     "output_type": "execute_result"
    }
   ],
   "source": [
    "homosk_regression_results"
   ]
  },
  {
   "cell_type": "code",
   "execution_count": 1107,
   "metadata": {},
   "outputs": [],
   "source": [
    "uni_bic_values = [heter_regression_results['Term'].bic, heter_regression_results['Curve'].bic, heter_regression_results['Default'].bic,\n",
    "              heter_regression_results['Inflation'].bic, heter_regression_results['Unemployment'].bic, heter_regression_results['Industrial Productivity'].bic]"
   ]
  },
  {
   "cell_type": "code",
   "execution_count": 1108,
   "metadata": {},
   "outputs": [
    {
     "data": {
      "text/plain": [
       "[4663.876516932659,\n",
       " 4666.24525023615,\n",
       " 4664.14020901853,\n",
       " 4666.442119598632,\n",
       " 4652.9451573433225,\n",
       " 4666.25965984063]"
      ]
     },
     "execution_count": 1108,
     "metadata": {},
     "output_type": "execute_result"
    }
   ],
   "source": [
    "uni_bic_values"
   ]
  },
  {
   "cell_type": "code",
   "execution_count": 1109,
   "metadata": {},
   "outputs": [
    {
     "data": {
      "text/plain": [
       "4652.9451573433225"
      ]
     },
     "execution_count": 1109,
     "metadata": {},
     "output_type": "execute_result"
    }
   ],
   "source": [
    "min(uni_bic_values)"
   ]
  },
  {
   "cell_type": "code",
   "execution_count": 1110,
   "metadata": {},
   "outputs": [],
   "source": [
    "uni_r2_values = [heter_regression_results['Term'].rsquared, heter_regression_results['Curve'].rsquared, heter_regression_results['Default'].rsquared,\n",
    "              heter_regression_results['Inflation'].rsquared, heter_regression_results['Unemployment'].rsquared, heter_regression_results['Industrial Productivity'].rsquared]"
   ]
  },
  {
   "cell_type": "code",
   "execution_count": 1111,
   "metadata": {},
   "outputs": [
    {
     "data": {
      "text/plain": [
       "[0.0032756694914771733,\n",
       " 0.0003274598175899701,\n",
       " 0.002947899503249918,\n",
       " 8.203705848797149e-05,\n",
       " 0.016768979243446447,\n",
       " 0.0003094984518540178]"
      ]
     },
     "execution_count": 1111,
     "metadata": {},
     "output_type": "execute_result"
    }
   ],
   "source": [
    "uni_r2_values"
   ]
  },
  {
   "cell_type": "code",
   "execution_count": 1112,
   "metadata": {},
   "outputs": [
    {
     "data": {
      "text/plain": [
       "0.016768979243446447"
      ]
     },
     "execution_count": 1112,
     "metadata": {},
     "output_type": "execute_result"
    }
   ],
   "source": [
    "max(uni_r2_values)"
   ]
  },
  {
   "cell_type": "markdown",
   "metadata": {},
   "source": [
    "# FF Univariate"
   ]
  },
  {
   "cell_type": "code",
   "execution_count": 1113,
   "metadata": {},
   "outputs": [],
   "source": [
    "factor_names = [col for col in factors_w_constant.columns]\n",
    "\n",
    "# Run univariate regressions for each factor\n",
    "ff_homosk_regression_results = {}\n",
    "ff_heter_regression_results = {}\n",
    "\n",
    "for factor in factor_names:\n",
    "    X = sm.add_constant(factors_w_constant[factor])  # Add constant term\n",
    "    y = ff_kitchen_sink\n",
    "    # Perform regression\n",
    "    model = sm.OLS(y, X)\n",
    "\n",
    "    # Store results\n",
    "    ff_homosk_regression_results[f\"{factor}\"] = model.fit()\n",
    "    ff_heter_regression_results[f\"{factor}\"] = model.fit(cov_type=\"HC0\")"
   ]
  },
  {
   "cell_type": "code",
   "execution_count": 1114,
   "metadata": {},
   "outputs": [
    {
     "name": "stdout",
     "output_type": "stream",
     "text": [
      "                            OLS Regression Results                            \n",
      "==============================================================================\n",
      "Dep. Variable:                 Mom      R-squared:                      -0.000\n",
      "Model:                            OLS   Adj. R-squared:                 -0.000\n",
      "Method:                 Least Squares   F-statistic:                       nan\n",
      "Date:                Mon, 13 Jan 2025   Prob (F-statistic):                nan\n",
      "Time:                        17:59:41   Log-Likelihood:                -2267.4\n",
      "No. Observations:                 802   AIC:                             4537.\n",
      "Df Residuals:                     801   BIC:                             4542.\n",
      "Df Model:                           0                                         \n",
      "Covariance Type:                  HC0                                         \n",
      "==============================================================================\n",
      "                 coef    std err          z      P>|z|      [0.025      0.975]\n",
      "------------------------------------------------------------------------------\n",
      "const          0.6263      0.144      4.337      0.000       0.343       0.909\n",
      "==============================================================================\n",
      "Omnibus:                      295.456   Durbin-Watson:                   1.933\n",
      "Prob(Omnibus):                  0.000   Jarque-Bera (JB):             3542.732\n",
      "Skew:                          -1.314   Prob(JB):                         0.00\n",
      "Kurtosis:                      12.956   Cond. No.                         1.00\n",
      "==============================================================================\n",
      "\n",
      "Notes:\n",
      "[1] Standard Errors are heteroscedasticity robust (HC0)\n",
      "                            OLS Regression Results                            \n",
      "==============================================================================\n",
      "Dep. Variable:                 Mom      R-squared:                       0.003\n",
      "Model:                            OLS   Adj. R-squared:                  0.002\n",
      "Method:                 Least Squares   F-statistic:                     1.747\n",
      "Date:                Mon, 13 Jan 2025   Prob (F-statistic):              0.187\n",
      "Time:                        17:59:41   Log-Likelihood:                -2266.2\n",
      "No. Observations:                 802   AIC:                             4536.\n",
      "Df Residuals:                     800   BIC:                             4546.\n",
      "Df Model:                           1                                         \n",
      "Covariance Type:                  HC0                                         \n",
      "==============================================================================\n",
      "                 coef    std err          z      P>|z|      [0.025      0.975]\n",
      "------------------------------------------------------------------------------\n",
      "const          0.8106      0.203      4.000      0.000       0.413       1.208\n",
      "Term          -0.1985      0.150     -1.322      0.186      -0.493       0.096\n",
      "==============================================================================\n",
      "Omnibus:                      295.617   Durbin-Watson:                   1.940\n",
      "Prob(Omnibus):                  0.000   Jarque-Bera (JB):             3451.885\n",
      "Skew:                          -1.323   Prob(JB):                         0.00\n",
      "Kurtosis:                      12.813   Cond. No.                         2.36\n",
      "==============================================================================\n",
      "\n",
      "Notes:\n",
      "[1] Standard Errors are heteroscedasticity robust (HC0)\n",
      "                            OLS Regression Results                            \n",
      "==============================================================================\n",
      "Dep. Variable:                 Mom      R-squared:                       0.000\n",
      "Model:                            OLS   Adj. R-squared:                 -0.001\n",
      "Method:                 Least Squares   F-statistic:                   0.07803\n",
      "Date:                Mon, 13 Jan 2025   Prob (F-statistic):              0.780\n",
      "Time:                        17:59:41   Log-Likelihood:                -2267.4\n",
      "No. Observations:                 802   AIC:                             4539.\n",
      "Df Residuals:                     800   BIC:                             4548.\n",
      "Df Model:                           1                                         \n",
      "Covariance Type:                  HC0                                         \n",
      "==============================================================================\n",
      "                 coef    std err          z      P>|z|      [0.025      0.975]\n",
      "------------------------------------------------------------------------------\n",
      "const          0.6020      0.186      3.244      0.001       0.238       0.966\n",
      "Curve         -0.0783      0.280     -0.279      0.780      -0.627       0.471\n",
      "==============================================================================\n",
      "Omnibus:                      294.032   Durbin-Watson:                   1.933\n",
      "Prob(Omnibus):                  0.000   Jarque-Bera (JB):             3527.022\n",
      "Skew:                          -1.305   Prob(JB):                         0.00\n",
      "Kurtosis:                      12.936   Cond. No.                         2.00\n",
      "==============================================================================\n",
      "\n",
      "Notes:\n",
      "[1] Standard Errors are heteroscedasticity robust (HC0)\n",
      "                            OLS Regression Results                            \n",
      "==============================================================================\n",
      "Dep. Variable:                 Mom      R-squared:                       0.014\n",
      "Model:                            OLS   Adj. R-squared:                  0.012\n",
      "Method:                 Least Squares   F-statistic:                     3.544\n",
      "Date:                Mon, 13 Jan 2025   Prob (F-statistic):             0.0601\n",
      "Time:                        17:59:41   Log-Likelihood:                -2261.9\n",
      "No. Observations:                 802   AIC:                             4528.\n",
      "Df Residuals:                     800   BIC:                             4537.\n",
      "Df Model:                           1                                         \n",
      "Covariance Type:                  HC0                                         \n",
      "==============================================================================\n",
      "                 coef    std err          z      P>|z|      [0.025      0.975]\n",
      "------------------------------------------------------------------------------\n",
      "const          1.7527      0.564      3.108      0.002       0.647       2.858\n",
      "Default        1.1287      0.600      1.883      0.060      -0.046       2.304\n",
      "==============================================================================\n",
      "Omnibus:                      253.027   Durbin-Watson:                   1.952\n",
      "Prob(Omnibus):                  0.000   Jarque-Bera (JB):             2641.059\n",
      "Skew:                          -1.113   Prob(JB):                         0.00\n",
      "Kurtosis:                      11.607   Cond. No.                         4.93\n",
      "==============================================================================\n",
      "\n",
      "Notes:\n",
      "[1] Standard Errors are heteroscedasticity robust (HC0)\n",
      "                            OLS Regression Results                            \n",
      "==============================================================================\n",
      "Dep. Variable:                 Mom      R-squared:                       0.001\n",
      "Model:                            OLS   Adj. R-squared:                 -0.000\n",
      "Method:                 Least Squares   F-statistic:                    0.7547\n",
      "Date:                Mon, 13 Jan 2025   Prob (F-statistic):              0.385\n",
      "Time:                        17:59:41   Log-Likelihood:                -2267.0\n",
      "No. Observations:                 802   AIC:                             4538.\n",
      "Df Residuals:                     800   BIC:                             4547.\n",
      "Df Model:                           1                                         \n",
      "Covariance Type:                  HC0                                         \n",
      "==============================================================================\n",
      "                 coef    std err          z      P>|z|      [0.025      0.975]\n",
      "------------------------------------------------------------------------------\n",
      "const          0.4148      0.287      1.444      0.149      -0.148       0.978\n",
      "Inflation      5.9016      6.793      0.869      0.385      -7.413      19.217\n",
      "==============================================================================\n",
      "Omnibus:                      294.758   Durbin-Watson:                   1.936\n",
      "Prob(Omnibus):                  0.000   Jarque-Bera (JB):             3506.839\n",
      "Skew:                          -1.312   Prob(JB):                         0.00\n",
      "Kurtosis:                      12.902   Cond. No.                         42.5\n",
      "==============================================================================\n",
      "\n",
      "Notes:\n",
      "[1] Standard Errors are heteroscedasticity robust (HC0)\n",
      "                            OLS Regression Results                            \n",
      "==============================================================================\n",
      "Dep. Variable:                 Mom      R-squared:                       0.005\n",
      "Model:                            OLS   Adj. R-squared:                  0.004\n",
      "Method:                 Least Squares   F-statistic:                     3.238\n",
      "Date:                Mon, 13 Jan 2025   Prob (F-statistic):             0.0723\n",
      "Time:                        17:59:41   Log-Likelihood:                -2265.4\n",
      "No. Observations:                 802   AIC:                             4535.\n",
      "Df Residuals:                     800   BIC:                             4544.\n",
      "Df Model:                           1                                         \n",
      "Covariance Type:                  HC0                                         \n",
      "================================================================================\n",
      "                   coef    std err          z      P>|z|      [0.025      0.975]\n",
      "--------------------------------------------------------------------------------\n",
      "const            1.6487      0.584      2.825      0.005       0.505       2.793\n",
      "Unemployment    -0.1733      0.096     -1.799      0.072      -0.362       0.015\n",
      "==============================================================================\n",
      "Omnibus:                      293.911   Durbin-Watson:                   1.940\n",
      "Prob(Omnibus):                  0.000   Jarque-Bera (JB):             3376.767\n",
      "Skew:                          -1.318   Prob(JB):                         0.00\n",
      "Kurtosis:                      12.700   Cond. No.                         23.0\n",
      "==============================================================================\n",
      "\n",
      "Notes:\n",
      "[1] Standard Errors are heteroscedasticity robust (HC0)\n",
      "                            OLS Regression Results                            \n",
      "==============================================================================\n",
      "Dep. Variable:                 Mom      R-squared:                       0.002\n",
      "Model:                            OLS   Adj. R-squared:                  0.001\n",
      "Method:                 Least Squares   F-statistic:                     1.841\n",
      "Date:                Mon, 13 Jan 2025   Prob (F-statistic):              0.175\n",
      "Time:                        17:59:41   Log-Likelihood:                -2266.6\n",
      "No. Observations:                 802   AIC:                             4537.\n",
      "Df Residuals:                     800   BIC:                             4547.\n",
      "Df Model:                           1                                         \n",
      "Covariance Type:                  HC0                                         \n",
      "===========================================================================================\n",
      "                              coef    std err          z      P>|z|      [0.025      0.975]\n",
      "-------------------------------------------------------------------------------------------\n",
      "const                       1.0764      0.312      3.450      0.001       0.465       1.688\n",
      "Industrial Productivity    -0.0067      0.005     -1.357      0.175      -0.016       0.003\n",
      "==============================================================================\n",
      "Omnibus:                      288.634   Durbin-Watson:                   1.937\n",
      "Prob(Omnibus):                  0.000   Jarque-Bera (JB):             3467.056\n",
      "Skew:                          -1.273   Prob(JB):                         0.00\n",
      "Kurtosis:                      12.862   Cond. No.                         192.\n",
      "==============================================================================\n",
      "\n",
      "Notes:\n",
      "[1] Standard Errors are heteroscedasticity robust (HC0)\n"
     ]
    }
   ],
   "source": [
    "for i in ff_heter_regression_results:\n",
    "    print(ff_heter_regression_results[i].summary())"
   ]
  },
  {
   "cell_type": "code",
   "execution_count": 1115,
   "metadata": {},
   "outputs": [],
   "source": [
    "uni_ff_bic_values = [ff_heter_regression_results['Term'].bic, ff_heter_regression_results['Curve'].bic, ff_heter_regression_results['Default'].bic,\n",
    "              ff_heter_regression_results['Inflation'].bic, ff_heter_regression_results['Unemployment'].bic, \n",
    "              ff_heter_regression_results['Industrial Productivity'].bic]"
   ]
  },
  {
   "cell_type": "code",
   "execution_count": 1116,
   "metadata": {},
   "outputs": [
    {
     "data": {
      "text/plain": [
       "[4545.852678821095,\n",
       " 4548.145149385899,\n",
       " 4537.198404436396,\n",
       " 4547.313878123494,\n",
       " 4544.175565898075,\n",
       " 4546.628251103527]"
      ]
     },
     "execution_count": 1116,
     "metadata": {},
     "output_type": "execute_result"
    }
   ],
   "source": [
    "uni_ff_bic_values"
   ]
  },
  {
   "cell_type": "code",
   "execution_count": 1117,
   "metadata": {},
   "outputs": [
    {
     "data": {
      "text/plain": [
       "4537.198404436396"
      ]
     },
     "execution_count": 1117,
     "metadata": {},
     "output_type": "execute_result"
    }
   ],
   "source": [
    "min(uni_ff_bic_values)"
   ]
  },
  {
   "cell_type": "code",
   "execution_count": 1118,
   "metadata": {},
   "outputs": [],
   "source": [
    "ff_uni_r2_values = [ff_heter_regression_results['Term'].rsquared, ff_heter_regression_results['Curve'].rsquared, \n",
    "                    ff_heter_regression_results['Default'].rsquared, ff_heter_regression_results['Inflation'].rsquared, \n",
    "                    ff_heter_regression_results['Unemployment'].rsquared, ff_heter_regression_results['Industrial Productivity'].rsquared]"
   ]
  },
  {
   "cell_type": "code",
   "execution_count": 1119,
   "metadata": {},
   "outputs": [
    {
     "data": {
      "text/plain": [
       "[0.0029722412992705394,\n",
       " 0.00011821809141177031,\n",
       " 0.013673193949298335,\n",
       " 0.0011540564771821415,\n",
       " 0.005055010638834845,\n",
       " 0.002007601513593249]"
      ]
     },
     "execution_count": 1119,
     "metadata": {},
     "output_type": "execute_result"
    }
   ],
   "source": [
    "ff_uni_r2_values"
   ]
  },
  {
   "cell_type": "code",
   "execution_count": 1120,
   "metadata": {},
   "outputs": [
    {
     "data": {
      "text/plain": [
       "0.013673193949298335"
      ]
     },
     "execution_count": 1120,
     "metadata": {},
     "output_type": "execute_result"
    }
   ],
   "source": [
    "max(ff_uni_r2_values)"
   ]
  },
  {
   "cell_type": "markdown",
   "metadata": {},
   "source": [
    "# Model Selection for Whole Sample"
   ]
  },
  {
   "cell_type": "code",
   "execution_count": 1121,
   "metadata": {},
   "outputs": [],
   "source": [
    "# model selection using backward stepwise\n",
    "\n",
    "# variables are term, curve, default, inflation, unemployment, productivity"
   ]
  },
  {
   "cell_type": "markdown",
   "metadata": {},
   "source": [
    "# VWM"
   ]
  },
  {
   "cell_type": "code",
   "execution_count": 1122,
   "metadata": {},
   "outputs": [
    {
     "name": "stdout",
     "output_type": "stream",
     "text": [
      "Iteration_0: ['Curve', 'Default', 'Inflation', 'Unemployment', 'Industrial Productivity']\n",
      "Iteration_1: ['Curve', 'Inflation', 'Unemployment', 'Industrial Productivity']\n",
      "Iteration_2: ['Curve', 'Inflation', 'Unemployment']\n",
      "Iteration_3: ['Inflation', 'Unemployment']\n",
      "Iteration_4: ['Unemployment']\n",
      "\n",
      "BIC values of the chosen model in each iteration:\n",
      "[4677.880036385706, 4671.222802971034, 4664.8275083618555, 4658.914947795646, 4652.9451573433225]\n"
     ]
    }
   ],
   "source": [
    "from collections import defaultdict\n",
    "import pandas as pd\n",
    "import statsmodels.api as sm\n",
    "\n",
    "# Initialize dictionaries to store results\n",
    "homosk_results_5 = {}\n",
    "heter_results_5 = {}\n",
    "\n",
    "# Copy factors and initialize the list of factor names\n",
    "updated_factors = factors_w_constant.copy()  # Copy to avoid modifying the original\n",
    "f_names = factors.columns\n",
    "remaining_predictors = defaultdict(list)  # Dictionary to store remaining predictors at each iteration\n",
    "bic_values = []  # List to store BIC values of the chosen model in each iteration\n",
    "\n",
    "for i in range(5):  # Loop 5 times for backward regression\n",
    "    sse_dict = {}\n",
    "    models = {}  # Store models for BIC extraction later\n",
    "\n",
    "    for pred in f_names:\n",
    "        # Remove one variable\n",
    "        col = updated_factors.drop(columns=[pred])\n",
    "        \n",
    "        # Perform regression\n",
    "        model = sm.OLS(vwm_kitchen_sink, col) #specific to VWM\n",
    "        results = model.fit(cov_type=\"HC0\")\n",
    "        \n",
    "        # Store results\n",
    "        heter_results_5[f\"{pred}_iter{i}\"] = results\n",
    "        sse_dict[pred] = results.ssr\n",
    "        models[pred] = results  # Keep track of models\n",
    "\n",
    "    # Convert results to DataFrame\n",
    "    sse = pd.DataFrame(list(sse_dict.items()), columns=['Predictor', 'SSE'])\n",
    "\n",
    "    # Find the predictor to remove (minimum SSE)\n",
    "    pred_to_remove = sse['Predictor'][sse['SSE'].idxmin()]\n",
    "\n",
    "    # Store BIC of the chosen model\n",
    "    bic_values.append(models[pred_to_remove].bic)\n",
    "\n",
    "    # Store remaining predictors for this iteration\n",
    "    remaining_factors = [f for f in f_names if f != pred_to_remove]\n",
    "    remaining_predictors[f\"Iteration_{i}\"] = remaining_factors\n",
    "\n",
    "    # Update factors by removing the selected predictor\n",
    "    updated_factors = updated_factors.drop(columns=[pred_to_remove])\n",
    "    f_names = f_names.drop(pred_to_remove)  # Update the list of factors\n",
    "\n",
    "# Display remaining predictors and BIC values\n",
    "for iteration, predictors in remaining_predictors.items():\n",
    "    print(f\"{iteration}: {predictors}\")\n",
    "\n",
    "print(\"\\nBIC values of the chosen model in each iteration:\")\n",
    "print(bic_values)\n"
   ]
  },
  {
   "cell_type": "code",
   "execution_count": 1123,
   "metadata": {},
   "outputs": [],
   "source": [
    "#loop through five variables to one variable (5 iter)\n",
    "# within each: run iter to remove one variable each time\n",
    "# fit the new predictors to a return\n",
    "# store aic, bic, and r2\n",
    "# compare across all sets of predictors and remove a variable that minimise sse\n",
    "# store new set of variables for lo, med, and hi\n",
    "\n",
    "from collections import defaultdict\n",
    "import pandas as pd\n",
    "import statsmodels.api as sm\n",
    "\n",
    "# Initialize dictionaries to store results\n",
    "homosk_results_5 = {}\n",
    "heter_results_5 = {}\n",
    "\n",
    "# Copy factors and initialize the list of factor names\n",
    "updated_factors = factors_w_constant.copy()  # Copy to avoid modifying the original\n",
    "f_names = factors.columns\n",
    "remaining_predictors = defaultdict(list)  # Dictionary to store remaining predictors at each iteration\n",
    "\n",
    "for i in range(5):  # Loop 5 times for backward regression\n",
    "    sse_dict = {}\n",
    "\n",
    "    for pred in f_names:\n",
    "        # Remove one variable\n",
    "        col = updated_factors.drop(columns=[pred])\n",
    "        \n",
    "        # Perform regression\n",
    "        model = sm.OLS(vwm_kitchen_sink, col)\n",
    "        results = model.fit(cov_type=\"HC0\")\n",
    "        \n",
    "        # Store results\n",
    "        heter_results_5[f\"{pred}_iter{i}\"] = results\n",
    "        sse_dict[pred] = results.ssr\n",
    "\n",
    "    # Convert results to DataFrame\n",
    "    sse = pd.DataFrame(list(sse_dict.items()), columns=['Predictor', 'SSE'])\n",
    "\n",
    "    # Find the predictor to remove (minimum SSE)\n",
    "    pred_to_remove = sse['Predictor'][sse['SSE'].idxmin()]\n",
    "\n",
    "    # Store remaining predictors for this iteration\n",
    "    remaining_factors = [f for f in f_names if f != pred_to_remove]\n",
    "    remaining_predictors[f\"Iteration_{i}\"] = remaining_factors\n",
    "\n",
    "    # Update factors by removing the selected predictor\n",
    "    updated_factors = updated_factors.drop(columns=[pred_to_remove])\n",
    "    f_names = f_names.drop(pred_to_remove)  # Update the list of factors\n",
    "\n"
   ]
  },
  {
   "cell_type": "code",
   "execution_count": 1124,
   "metadata": {},
   "outputs": [],
   "source": [
    "bic_values = [heter_results_5['Term_iter0'].bic, heter_results_5['Default_iter1'].bic, heter_results_5['Industrial Productivity_iter2'].bic,\n",
    "              heter_results_5['Curve_iter3'].bic,heter_results_5['Inflation_iter4'].bic]"
   ]
  },
  {
   "cell_type": "code",
   "execution_count": 1125,
   "metadata": {},
   "outputs": [
    {
     "data": {
      "text/plain": [
       "[4677.880036385706,\n",
       " 4671.222802971034,\n",
       " 4664.8275083618555,\n",
       " 4658.914947795646,\n",
       " 4652.9451573433225]"
      ]
     },
     "execution_count": 1125,
     "metadata": {},
     "output_type": "execute_result"
    }
   ],
   "source": [
    "bic_values"
   ]
  },
  {
   "cell_type": "code",
   "execution_count": 1126,
   "metadata": {},
   "outputs": [],
   "source": [
    "aic_values = [heter_results_5['Term_iter0'].aic, heter_results_5['Default_iter1'].aic, heter_results_5['Industrial Productivity_iter2'].aic,\n",
    "              heter_results_5['Curve_iter3'].aic,heter_results_5['Inflation_iter4'].aic]"
   ]
  },
  {
   "cell_type": "code",
   "execution_count": 1127,
   "metadata": {},
   "outputs": [],
   "source": [
    "rsquared_values = [heter_results_5['Term_iter0'].rsquared, heter_results_5['Default_iter1'].rsquared, heter_results_5['Industrial Productivity_iter2'].rsquared,\n",
    "              heter_results_5['Curve_iter3'].rsquared,heter_results_5['Inflation_iter4'].rsquared]"
   ]
  },
  {
   "cell_type": "code",
   "execution_count": 1128,
   "metadata": {},
   "outputs": [
    {
     "data": {
      "text/plain": [
       "[0.018989838759107425,\n",
       " 0.01895329460203632,\n",
       " 0.01859626810389814,\n",
       " 0.01764799937653183,\n",
       " 0.016768979243446447]"
      ]
     },
     "execution_count": 1128,
     "metadata": {},
     "output_type": "execute_result"
    }
   ],
   "source": [
    "rsquared_values"
   ]
  },
  {
   "cell_type": "code",
   "execution_count": 1129,
   "metadata": {},
   "outputs": [
    {
     "data": {
      "text/plain": [
       "0.018989838759107425"
      ]
     },
     "execution_count": 1129,
     "metadata": {},
     "output_type": "execute_result"
    }
   ],
   "source": [
    "max(rsquared_values)"
   ]
  },
  {
   "cell_type": "markdown",
   "metadata": {},
   "source": [
    "r^2 of the 3rd iteration is the highest, so the model selected by criteria of r^2 using backward stepwise regression is one that includes \n",
    "\n",
    "Iteration_2: ['Curve', 'Inflation', 'Unemployment']\n"
   ]
  },
  {
   "cell_type": "code",
   "execution_count": 1130,
   "metadata": {},
   "outputs": [],
   "source": [
    "# check that model selected based on BIC and SSE is the same\n",
    "\n",
    "sse_values = [heter_results_5['Term_iter0'].ssr, heter_results_5['Default_iter1'].ssr, heter_results_5['Industrial Productivity_iter2'].ssr,\n",
    "              heter_results_5['Curve_iter3'].ssr,heter_results_5['Inflation_iter4'].ssr]"
   ]
  },
  {
   "cell_type": "code",
   "execution_count": 1131,
   "metadata": {},
   "outputs": [
    {
     "data": {
      "text/plain": [
       "[15244.459776392863,\n",
       " 15245.02765627275,\n",
       " 15250.575688602088,\n",
       " 15265.311361118733,\n",
       " 15278.970941407391]"
      ]
     },
     "execution_count": 1131,
     "metadata": {},
     "output_type": "execute_result"
    }
   ],
   "source": [
    "sse_values"
   ]
  },
  {
   "cell_type": "code",
   "execution_count": 1132,
   "metadata": {},
   "outputs": [
    {
     "data": {
      "text/plain": [
       "15244.459776392863"
      ]
     },
     "execution_count": 1132,
     "metadata": {},
     "output_type": "execute_result"
    }
   ],
   "source": [
    "min(sse_values)"
   ]
  },
  {
   "cell_type": "code",
   "execution_count": 1133,
   "metadata": {},
   "outputs": [
    {
     "name": "stdout",
     "output_type": "stream",
     "text": [
      "Iteration_0: ['Curve', 'Default', 'Inflation', 'Unemployment', 'Industrial Productivity']\n",
      "Iteration_1: ['Curve', 'Inflation', 'Unemployment', 'Industrial Productivity']\n",
      "Iteration_2: ['Curve', 'Inflation', 'Unemployment']\n",
      "Iteration_3: ['Inflation', 'Unemployment']\n",
      "Iteration_4: ['Unemployment']\n",
      "\n",
      "BIC values of the chosen model in each iteration:\n",
      "[4677.880036385706, 4671.222802971034, 4664.8275083618555, 4658.914947795646, 4652.9451573433225]\n"
     ]
    }
   ],
   "source": [
    "#calculate BIC for each iteration and pick the model with the lowest\n",
    "\n",
    "# Display remaining predictors and BIC values\n",
    "\n",
    "for iteration, predictors in remaining_predictors.items():\n",
    "    print(f\"{iteration}: {predictors}\")\n",
    "\n",
    "print(\"\\nBIC values of the chosen model in each iteration:\")\n",
    "print(bic_values)"
   ]
  },
  {
   "cell_type": "code",
   "execution_count": 1134,
   "metadata": {},
   "outputs": [],
   "source": [
    "#first iteration dropped term"
   ]
  },
  {
   "cell_type": "code",
   "execution_count": 1135,
   "metadata": {},
   "outputs": [
    {
     "name": "stdout",
     "output_type": "stream",
     "text": [
      "The iteration with the lowest BIC is: Iteration_4\n",
      "Predictors in the model with the lowest BIC: ['Unemployment']\n",
      "Lowest BIC value: 4652.9451573433225\n"
     ]
    }
   ],
   "source": [
    "# pick the model with the lowest BIC\n",
    "\n",
    "# Find the index of the iteration with the lowest BIC\n",
    "min_bic_index = bic_values.index(min(bic_values))\n",
    "\n",
    "# Retrieve the corresponding iteration name and predictors\n",
    "lowest_bic_iteration = f\"Iteration_{min_bic_index}\"\n",
    "lowest_bic_predictors = remaining_predictors[lowest_bic_iteration]\n",
    "\n",
    "# Print results\n",
    "print(f\"The iteration with the lowest BIC is: {lowest_bic_iteration}\")\n",
    "print(f\"Predictors in the model with the lowest BIC: {lowest_bic_predictors}\")\n",
    "print(f\"Lowest BIC value: {min(bic_values)}\")"
   ]
  },
  {
   "cell_type": "markdown",
   "metadata": {},
   "source": [
    "# FF Model Selection\n"
   ]
  },
  {
   "cell_type": "code",
   "execution_count": 1136,
   "metadata": {},
   "outputs": [
    {
     "name": "stdout",
     "output_type": "stream",
     "text": [
      "Iteration_0: ['Term', 'Curve', 'Default', 'Inflation', 'Industrial Productivity']\n",
      "Iteration_1: ['Term', 'Curve', 'Default', 'Inflation']\n",
      "Iteration_2: ['Curve', 'Default', 'Inflation']\n",
      "Iteration_3: ['Default', 'Inflation']\n",
      "Iteration_4: ['Default']\n",
      "\n",
      "BIC values of the chosen model in each iteration:\n",
      "[4554.125598202757, 4547.676233837324, 4541.632529091882, 4536.510903294634, 4537.198404436396]\n"
     ]
    }
   ],
   "source": [
    "# Initialize dictionaries to store results\n",
    "ff_heter_results_5 = {}\n",
    "\n",
    "# Copy factors and initialize the list of factor names\n",
    "updated_factors = factors_w_constant.copy()  # Copy to avoid modifying the original\n",
    "f_names = factors.columns\n",
    "remaining_predictors = defaultdict(list)  # Dictionary to store remaining predictors at each iteration\n",
    "ff_model_selection_bic_values = []  # List to store BIC values of the chosen model in each iteration\n",
    "\n",
    "for i in range(5):  # Loop 5 times for backward regression\n",
    "    sse_dict = {}\n",
    "    models = {}  # Store models for BIC extraction later\n",
    "\n",
    "    for pred in f_names:\n",
    "        # Remove one variable\n",
    "        col = updated_factors.drop(columns=[pred])\n",
    "        \n",
    "        # Perform regression\n",
    "        model = sm.OLS(ff_kitchen_sink, col) #specific to ff\n",
    "        results = model.fit(cov_type=\"HC0\")\n",
    "        \n",
    "        # Store results\n",
    "        ff_heter_results_5[f\"{pred}_iter{i}\"] = results\n",
    "        sse_dict[pred] = results.ssr\n",
    "        models[pred] = results  # Keep track of models\n",
    "\n",
    "    # Convert results to DataFrame\n",
    "    sse = pd.DataFrame(list(sse_dict.items()), columns=['Predictor', 'SSE'])\n",
    "\n",
    "    # Find the predictor to remove (minimum SSE)\n",
    "    pred_to_remove = sse['Predictor'][sse['SSE'].idxmin()]\n",
    "\n",
    "    # Store BIC of the chosen model\n",
    "    ff_model_selection_bic_values.append(models[pred_to_remove].bic)\n",
    "\n",
    "    # Store remaining predictors for this iteration\n",
    "    remaining_factors = [f for f in f_names if f != pred_to_remove]\n",
    "    remaining_predictors[f\"Iteration_{i}\"] = remaining_factors\n",
    "\n",
    "    # Update factors by removing the selected predictor\n",
    "    updated_factors = updated_factors.drop(columns=[pred_to_remove])\n",
    "    f_names = f_names.drop(pred_to_remove)  # Update the list of factors\n",
    "\n",
    "# Display remaining predictors and BIC values\n",
    "for iteration, predictors in remaining_predictors.items():\n",
    "    print(f\"{iteration}: {predictors}\")\n",
    "\n",
    "print(\"\\nBIC values of the chosen model in each iteration:\")\n",
    "print(ff_model_selection_bic_values)\n"
   ]
  },
  {
   "cell_type": "code",
   "execution_count": 1137,
   "metadata": {},
   "outputs": [
    {
     "name": "stdout",
     "output_type": "stream",
     "text": [
      "The iteration with the lowest BIC is: Iteration_3\n",
      "Predictors in the model with the lowest BIC: ['Default', 'Inflation']\n",
      "Lowest BIC value: 4536.510903294634\n"
     ]
    }
   ],
   "source": [
    "# pick the model with the lowest BIC\n",
    "\n",
    "# Find the index of the iteration with the lowest BIC\n",
    "min_bic_index = ff_model_selection_bic_values.index(min(ff_model_selection_bic_values))\n",
    "\n",
    "# Retrieve the corresponding iteration name and predictors\n",
    "lowest_bic_iteration = f\"Iteration_{min_bic_index}\"\n",
    "lowest_bic_predictors = remaining_predictors[lowest_bic_iteration]\n",
    "\n",
    "# Print results\n",
    "print(f\"The iteration with the lowest BIC is: {lowest_bic_iteration}\")\n",
    "print(f\"Predictors in the model with the lowest BIC: {lowest_bic_predictors}\")\n",
    "print(f\"Lowest BIC value: {min(ff_model_selection_bic_values)}\")"
   ]
  },
  {
   "cell_type": "markdown",
   "metadata": {},
   "source": [
    "# Summary Statistics"
   ]
  },
  {
   "cell_type": "markdown",
   "metadata": {},
   "source": [
    "VWM\n",
    "\n",
    "VWM Kitchen Sink: R2 = 0.019 for hetero, BIC = 4685\n",
    "\n",
    "VWM Univariate - Unemployment, R2 = 0.016768979243446447, BIC = 4652.9451573433225\n",
    "\n",
    "VWM Model Selection - Unemployment, BIC = 4652.9451573433225, don't care about R2 for model selection using backward stepwise because the r^2 of the initial model will always be the highest\n",
    "\n",
    "FF\n",
    "\n",
    "FF Kitchen Sink: R2 = 0.026 for hetero, BIC = 4561\n",
    "\n",
    "FF Univariate - Default, R2 = 0.013673193949298335, BIC = 4537.198404436396\n",
    "\n",
    "FF Model Selection - iteration with Default and Inflation, BIC = 4536.510903294634\n",
    "\n",
    "Choose BIC ultimately as the selection criterion becasue we don't wanna overfit and R^2 will always increase never decrease if you add variables"
   ]
  },
  {
   "cell_type": "code",
   "execution_count": 1138,
   "metadata": {},
   "outputs": [],
   "source": [
    "VWM_BICs = [4685, 4652.9451573433225, 4652.9451573433225]\n",
    "\n",
    "FF_BICs = [4561, 4537.198404436396, 4536.510903294634]"
   ]
  },
  {
   "cell_type": "code",
   "execution_count": 1139,
   "metadata": {},
   "outputs": [
    {
     "data": {
      "text/plain": [
       "4652.9451573433225"
      ]
     },
     "execution_count": 1139,
     "metadata": {},
     "output_type": "execute_result"
    }
   ],
   "source": [
    "min(VWM_BICs)"
   ]
  },
  {
   "cell_type": "code",
   "execution_count": 1140,
   "metadata": {},
   "outputs": [
    {
     "data": {
      "text/plain": [
       "4536.510903294634"
      ]
     },
     "execution_count": 1140,
     "metadata": {},
     "output_type": "execute_result"
    }
   ],
   "source": [
    "min(FF_BICs)"
   ]
  },
  {
   "cell_type": "markdown",
   "metadata": {},
   "source": [
    "SO THE BEST MODEL FOR VWM BASED ON BIC IS THE UNIVARIATE WITH UNEMPLOYMENT, AND THE BEST FOR FF IS THE MODEL SELECTION MODEL WITH INFLATION AND DEFAULT\n"
   ]
  },
  {
   "cell_type": "markdown",
   "metadata": {},
   "source": [
    "# Predicting Returns using Best Models and Weighting"
   ]
  },
  {
   "cell_type": "markdown",
   "metadata": {},
   "source": [
    "# VWM"
   ]
  },
  {
   "cell_type": "code",
   "execution_count": 1141,
   "metadata": {},
   "outputs": [
    {
     "data": {
      "text/plain": [
       "12     0.931503\n",
       "13     1.135403\n",
       "14     1.237353\n",
       "15     1.475236\n",
       "16     1.475236\n",
       "         ...   \n",
       "809    0.353787\n",
       "810    0.421753\n",
       "811    0.387770\n",
       "812    0.353787\n",
       "813    0.353787\n",
       "Length: 802, dtype: float64"
      ]
     },
     "execution_count": 1141,
     "metadata": {},
     "output_type": "execute_result"
    }
   ],
   "source": [
    "pred_vwm = heter_results_5['Inflation_iter4'].predict(sm.add_constant(UR['UNRATE'][12:]))\n",
    "pred_vwm"
   ]
  },
  {
   "cell_type": "markdown",
   "metadata": {},
   "source": [
    "we still just use everything except the first 12 rows because this is the dataset that was used to train the model"
   ]
  },
  {
   "cell_type": "code",
   "execution_count": 1142,
   "metadata": {},
   "outputs": [
    {
     "data": {
      "text/html": [
       "<table class=\"simpletable\">\n",
       "<caption>OLS Regression Results</caption>\n",
       "<tr>\n",
       "  <th>Dep. Variable:</th>           <td>Rm</td>        <th>  R-squared:         </th> <td>   0.017</td>\n",
       "</tr>\n",
       "<tr>\n",
       "  <th>Model:</th>                   <td>OLS</td>       <th>  Adj. R-squared:    </th> <td>   0.016</td>\n",
       "</tr>\n",
       "<tr>\n",
       "  <th>Method:</th>             <td>Least Squares</td>  <th>  F-statistic:       </th> <td>   11.79</td>\n",
       "</tr>\n",
       "<tr>\n",
       "  <th>Date:</th>             <td>Mon, 13 Jan 2025</td> <th>  Prob (F-statistic):</th> <td>0.000626</td>\n",
       "</tr>\n",
       "<tr>\n",
       "  <th>Time:</th>                 <td>17:59:41</td>     <th>  Log-Likelihood:    </th> <td> -2319.8</td>\n",
       "</tr>\n",
       "<tr>\n",
       "  <th>No. Observations:</th>      <td>   802</td>      <th>  AIC:               </th> <td>   4644.</td>\n",
       "</tr>\n",
       "<tr>\n",
       "  <th>Df Residuals:</th>          <td>   800</td>      <th>  BIC:               </th> <td>   4653.</td>\n",
       "</tr>\n",
       "<tr>\n",
       "  <th>Df Model:</th>              <td>     1</td>      <th>                     </th>     <td> </td>   \n",
       "</tr>\n",
       "<tr>\n",
       "  <th>Covariance Type:</th>         <td>HC0</td>       <th>                     </th>     <td> </td>   \n",
       "</tr>\n",
       "</table>\n",
       "<table class=\"simpletable\">\n",
       "<tr>\n",
       "        <td></td>          <th>coef</th>     <th>std err</th>      <th>z</th>      <th>P>|z|</th>  <th>[0.025</th>    <th>0.975]</th>  \n",
       "</tr>\n",
       "<tr>\n",
       "  <th>const</th>        <td>   -1.0395</td> <td>    0.600</td> <td>   -1.732</td> <td> 0.083</td> <td>   -2.216</td> <td>    0.137</td>\n",
       "</tr>\n",
       "<tr>\n",
       "  <th>Unemployment</th> <td>    0.3398</td> <td>    0.099</td> <td>    3.434</td> <td> 0.001</td> <td>    0.146</td> <td>    0.534</td>\n",
       "</tr>\n",
       "</table>\n",
       "<table class=\"simpletable\">\n",
       "<tr>\n",
       "  <th>Omnibus:</th>       <td>67.026</td> <th>  Durbin-Watson:     </th> <td>   1.930</td>\n",
       "</tr>\n",
       "<tr>\n",
       "  <th>Prob(Omnibus):</th> <td> 0.000</td> <th>  Jarque-Bera (JB):  </th> <td> 130.992</td>\n",
       "</tr>\n",
       "<tr>\n",
       "  <th>Skew:</th>          <td>-0.530</td> <th>  Prob(JB):          </th> <td>3.59e-29</td>\n",
       "</tr>\n",
       "<tr>\n",
       "  <th>Kurtosis:</th>      <td> 4.672</td> <th>  Cond. No.          </th> <td>    23.0</td>\n",
       "</tr>\n",
       "</table><br/><br/>Notes:<br/>[1] Standard Errors are heteroscedasticity robust (HC0)"
      ],
      "text/latex": [
       "\\begin{center}\n",
       "\\begin{tabular}{lclc}\n",
       "\\toprule\n",
       "\\textbf{Dep. Variable:}    &        Rm        & \\textbf{  R-squared:         } &     0.017   \\\\\n",
       "\\textbf{Model:}            &       OLS        & \\textbf{  Adj. R-squared:    } &     0.016   \\\\\n",
       "\\textbf{Method:}           &  Least Squares   & \\textbf{  F-statistic:       } &     11.79   \\\\\n",
       "\\textbf{Date:}             & Mon, 13 Jan 2025 & \\textbf{  Prob (F-statistic):} &  0.000626   \\\\\n",
       "\\textbf{Time:}             &     17:59:41     & \\textbf{  Log-Likelihood:    } &   -2319.8   \\\\\n",
       "\\textbf{No. Observations:} &         802      & \\textbf{  AIC:               } &     4644.   \\\\\n",
       "\\textbf{Df Residuals:}     &         800      & \\textbf{  BIC:               } &     4653.   \\\\\n",
       "\\textbf{Df Model:}         &           1      & \\textbf{                     } &             \\\\\n",
       "\\textbf{Covariance Type:}  &       HC0        & \\textbf{                     } &             \\\\\n",
       "\\bottomrule\n",
       "\\end{tabular}\n",
       "\\begin{tabular}{lcccccc}\n",
       "                      & \\textbf{coef} & \\textbf{std err} & \\textbf{z} & \\textbf{P$> |$z$|$} & \\textbf{[0.025} & \\textbf{0.975]}  \\\\\n",
       "\\midrule\n",
       "\\textbf{const}        &      -1.0395  &        0.600     &    -1.732  &         0.083        &       -2.216    &        0.137     \\\\\n",
       "\\textbf{Unemployment} &       0.3398  &        0.099     &     3.434  &         0.001        &        0.146    &        0.534     \\\\\n",
       "\\bottomrule\n",
       "\\end{tabular}\n",
       "\\begin{tabular}{lclc}\n",
       "\\textbf{Omnibus:}       & 67.026 & \\textbf{  Durbin-Watson:     } &    1.930  \\\\\n",
       "\\textbf{Prob(Omnibus):} &  0.000 & \\textbf{  Jarque-Bera (JB):  } &  130.992  \\\\\n",
       "\\textbf{Skew:}          & -0.530 & \\textbf{  Prob(JB):          } & 3.59e-29  \\\\\n",
       "\\textbf{Kurtosis:}      &  4.672 & \\textbf{  Cond. No.          } &     23.0  \\\\\n",
       "\\bottomrule\n",
       "\\end{tabular}\n",
       "%\\caption{OLS Regression Results}\n",
       "\\end{center}\n",
       "\n",
       "Notes: \\newline\n",
       " [1] Standard Errors are heteroscedasticity robust (HC0)"
      ],
      "text/plain": [
       "<class 'statsmodels.iolib.summary.Summary'>\n",
       "\"\"\"\n",
       "                            OLS Regression Results                            \n",
       "==============================================================================\n",
       "Dep. Variable:                     Rm   R-squared:                       0.017\n",
       "Model:                            OLS   Adj. R-squared:                  0.016\n",
       "Method:                 Least Squares   F-statistic:                     11.79\n",
       "Date:                Mon, 13 Jan 2025   Prob (F-statistic):           0.000626\n",
       "Time:                        17:59:41   Log-Likelihood:                -2319.8\n",
       "No. Observations:                 802   AIC:                             4644.\n",
       "Df Residuals:                     800   BIC:                             4653.\n",
       "Df Model:                           1                                         \n",
       "Covariance Type:                  HC0                                         \n",
       "================================================================================\n",
       "                   coef    std err          z      P>|z|      [0.025      0.975]\n",
       "--------------------------------------------------------------------------------\n",
       "const           -1.0395      0.600     -1.732      0.083      -2.216       0.137\n",
       "Unemployment     0.3398      0.099      3.434      0.001       0.146       0.534\n",
       "==============================================================================\n",
       "Omnibus:                       67.026   Durbin-Watson:                   1.930\n",
       "Prob(Omnibus):                  0.000   Jarque-Bera (JB):              130.992\n",
       "Skew:                          -0.530   Prob(JB):                     3.59e-29\n",
       "Kurtosis:                       4.672   Cond. No.                         23.0\n",
       "==============================================================================\n",
       "\n",
       "Notes:\n",
       "[1] Standard Errors are heteroscedasticity robust (HC0)\n",
       "\"\"\""
      ]
     },
     "execution_count": 1142,
     "metadata": {},
     "output_type": "execute_result"
    }
   ],
   "source": [
    "heter_results_5['Inflation_iter4'].summary()"
   ]
  },
  {
   "cell_type": "code",
   "execution_count": 1143,
   "metadata": {},
   "outputs": [
    {
     "name": "stdout",
     "output_type": "stream",
     "text": [
      "     Predicted VWM  Historical Average Return (r_bar)  Weights\n",
      "12        0.931503                           0.965274      0.5\n",
      "13        1.135403                           0.965274      1.5\n",
      "14        1.237353                           0.965274      1.5\n",
      "15        1.475236                           0.965274      1.5\n",
      "16        1.475236                           0.965274      1.5\n",
      "..             ...                                ...      ...\n",
      "809       0.353787                           0.965274      0.5\n",
      "810       0.421753                           0.965274      0.5\n",
      "811       0.387770                           0.965274      0.5\n",
      "812       0.353787                           0.965274      0.5\n",
      "813       0.353787                           0.965274      0.5\n",
      "\n",
      "[802 rows x 3 columns]\n"
     ]
    }
   ],
   "source": [
    "\n",
    "# Calculate historical average return (r_bar)\n",
    "r_bar = vwm_kitchen_sink.mean()\n",
    "\n",
    "# Apply the weighting function using pandas' `apply` method\n",
    "weights = pred_vwm.apply(lambda x: 1.5 if x > r_bar else 0.5)\n",
    "\n",
    "# Combine everything into a DataFrame for clarity\n",
    "portfolio_weights = pd.DataFrame({\n",
    "    'Predicted VWM': pred_vwm,\n",
    "    'Historical Average Return (r_bar)': r_bar,\n",
    "    'Weights': weights\n",
    "})\n",
    "\n",
    "print(portfolio_weights)\n"
   ]
  },
  {
   "cell_type": "code",
   "execution_count": 1144,
   "metadata": {},
   "outputs": [],
   "source": [
    "portfolio_returns = pred_vwm * weights + vwm['RF'][12:] * (1-weights)"
   ]
  },
  {
   "cell_type": "code",
   "execution_count": 1145,
   "metadata": {},
   "outputs": [
    {
     "data": {
      "text/plain": [
       "1.2362255107447673"
      ]
     },
     "execution_count": 1145,
     "metadata": {},
     "output_type": "execute_result"
    }
   ],
   "source": [
    "new_sharpe = portfolio_returns.mean() / portfolio_returns.std()\n",
    "new_sharpe"
   ]
  },
  {
   "cell_type": "code",
   "execution_count": 1146,
   "metadata": {},
   "outputs": [
    {
     "data": {
      "text/plain": [
       "0.21915316213725497"
      ]
     },
     "execution_count": 1146,
     "metadata": {},
     "output_type": "execute_result"
    }
   ],
   "source": [
    "old_sharpe = vwm_kitchen_sink.mean()/vwm_kitchen_sink.std()\n",
    "old_sharpe"
   ]
  },
  {
   "cell_type": "markdown",
   "metadata": {},
   "source": [
    "# FF"
   ]
  },
  {
   "cell_type": "code",
   "execution_count": 1147,
   "metadata": {},
   "outputs": [
    {
     "name": "stdout",
     "output_type": "stream",
     "text": [
      "0      0.110511\n",
      "1      0.361138\n",
      "2      0.390944\n",
      "3      0.295482\n",
      "4      0.327029\n",
      "         ...   \n",
      "797    1.046099\n",
      "798    0.987433\n",
      "799    0.980979\n",
      "800    0.963987\n",
      "801    1.065983\n",
      "Length: 802, dtype: float64\n"
     ]
    }
   ],
   "source": [
    "# Combine DEFAULT and INFLATION into a DataFrame\n",
    "new_data = pd.DataFrame({\n",
    "    'DEFAULT': DEFAULT[12:].values,\n",
    "    'INFLATION': INFLATION[12:].values\n",
    "})\n",
    "\n",
    "# Add a constant term (intercept)\n",
    "new_data_with_constant = sm.add_constant(new_data)\n",
    "\n",
    "# Make predictions\n",
    "pred_ff = ff_heter_results_5['Curve_iter3'].predict(new_data_with_constant)\n",
    "print(pred_ff)"
   ]
  },
  {
   "cell_type": "code",
   "execution_count": 1148,
   "metadata": {},
   "outputs": [
    {
     "name": "stdout",
     "output_type": "stream",
     "text": [
      "     Predicted FF  Historical Average Return (r_bar)  Weights\n",
      "0        0.110511                           0.626259      0.5\n",
      "1        0.361138                           0.626259      0.5\n",
      "2        0.390944                           0.626259      0.5\n",
      "3        0.295482                           0.626259      0.5\n",
      "4        0.327029                           0.626259      0.5\n",
      "..            ...                                ...      ...\n",
      "797      1.046099                           0.626259      1.5\n",
      "798      0.987433                           0.626259      1.5\n",
      "799      0.980979                           0.626259      1.5\n",
      "800      0.963987                           0.626259      1.5\n",
      "801      1.065983                           0.626259      1.5\n",
      "\n",
      "[802 rows x 3 columns]\n"
     ]
    }
   ],
   "source": [
    "\n",
    "# Calculate historical average return (r_bar)\n",
    "r_bar = ff_kitchen_sink.mean()\n",
    "\n",
    "# Apply the weighting function using pandas' `apply` method\n",
    "weights = pred_ff.apply(lambda x: 1.5 if x > r_bar else 0.5)\n",
    "\n",
    "# Combine everything into a DataFrame for clarity\n",
    "ff_portfolio_weights = pd.DataFrame({\n",
    "    'Predicted FF': pred_ff,\n",
    "    'Historical Average Return (r_bar)': r_bar,\n",
    "    'Weights': weights\n",
    "})\n",
    "\n",
    "print(ff_portfolio_weights)\n"
   ]
  },
  {
   "cell_type": "code",
   "execution_count": 1149,
   "metadata": {},
   "outputs": [],
   "source": [
    "ff_portfolio_returns = pred_ff * weights + vwm['RF'][12:] * (1-weights)"
   ]
  },
  {
   "cell_type": "code",
   "execution_count": 1150,
   "metadata": {},
   "outputs": [
    {
     "data": {
      "text/plain": [
       "1.3301673320661254"
      ]
     },
     "execution_count": 1150,
     "metadata": {},
     "output_type": "execute_result"
    }
   ],
   "source": [
    "ff_new_sharpe = ff_portfolio_returns.mean() / ff_portfolio_returns.std()\n",
    "ff_new_sharpe"
   ]
  },
  {
   "cell_type": "code",
   "execution_count": 1151,
   "metadata": {},
   "outputs": [
    {
     "data": {
      "text/plain": [
       "1.0546535863579594"
      ]
     },
     "execution_count": 1151,
     "metadata": {},
     "output_type": "execute_result"
    }
   ],
   "source": [
    "ff_new_sharpe_is = ff_portfolio_returns[413:].mean() / ff_portfolio_returns[413:].std()\n",
    "ff_new_sharpe_is"
   ]
  },
  {
   "cell_type": "code",
   "execution_count": 1152,
   "metadata": {},
   "outputs": [
    {
     "data": {
      "text/plain": [
       "0.15306401804614264"
      ]
     },
     "execution_count": 1152,
     "metadata": {},
     "output_type": "execute_result"
    }
   ],
   "source": [
    "ff_old_sharpe = ff_kitchen_sink.mean()/ff_kitchen_sink.std()\n",
    "ff_old_sharpe"
   ]
  },
  {
   "cell_type": "code",
   "execution_count": 1153,
   "metadata": {},
   "outputs": [
    {
     "data": {
      "text/plain": [
       "0.08932453342959115"
      ]
     },
     "execution_count": 1153,
     "metadata": {},
     "output_type": "execute_result"
    }
   ],
   "source": [
    "ff_old_sharpe_is = ff_kitchen_sink[413:].mean()/ff_kitchen_sink[413:].std()\n",
    "ff_old_sharpe_is"
   ]
  },
  {
   "cell_type": "markdown",
   "metadata": {},
   "source": [
    "sharpe ratio is much lower if we only look over the [413:] period so either the mean is a lot lower or SD is a lot higher"
   ]
  },
  {
   "cell_type": "code",
   "execution_count": null,
   "metadata": {},
   "outputs": [],
   "source": []
  },
  {
   "cell_type": "markdown",
   "metadata": {},
   "source": [
    "# Question 2"
   ]
  },
  {
   "cell_type": "markdown",
   "metadata": {},
   "source": [
    "# Retrain VWM Model and Compare Sharpe Ratios\n"
   ]
  },
  {
   "cell_type": "code",
   "execution_count": 1154,
   "metadata": {},
   "outputs": [],
   "source": [
    "heter_results_oos = {}\n",
    "\n",
    "pred = sm.add_constant(UR_train['UNRATE'])\n",
    "        \n",
    "# Perform regression\n",
    "model = sm.OLS(vwm_train, pred) #specific to VWM\n",
    "results = model.fit(cov_type=\"HC0\")\n",
    "\n",
    "oos_pred = results.predict(sm.add_constant(UR_test['UNRATE']))"
   ]
  },
  {
   "cell_type": "code",
   "execution_count": 1155,
   "metadata": {},
   "outputs": [],
   "source": [
    "r2_oos_pred = r2_score(vwm_test, oos_pred)"
   ]
  },
  {
   "cell_type": "code",
   "execution_count": 1156,
   "metadata": {},
   "outputs": [
    {
     "name": "stdout",
     "output_type": "stream",
     "text": [
      "     Predicted VWM  Historical Average Return (r_bar)  Weights\n",
      "413       1.332722                           0.833211      1.5\n",
      "414       1.290659                           0.833211      1.5\n",
      "415       1.332722                           0.833211      1.5\n",
      "416       1.332722                           0.833211      1.5\n",
      "417       1.374785                           0.833211      1.5\n",
      "..             ...                                ...      ...\n",
      "809       0.154957                           0.833211      0.5\n",
      "810       0.239083                           0.833211      0.5\n",
      "811       0.197020                           0.833211      0.5\n",
      "812       0.154957                           0.833211      0.5\n",
      "813       0.154957                           0.833211      0.5\n",
      "\n",
      "[401 rows x 3 columns]\n"
     ]
    }
   ],
   "source": [
    "# Calculate historical average return (r_bar)\n",
    "r_bar = oos_pred.mean()\n",
    "\n",
    "# Apply the weighting function using pandas' `apply` method\n",
    "weights = oos_pred.apply(lambda x: 1.5 if x > r_bar else 0.5)\n",
    "\n",
    "# Combine everything into a DataFrame for clarity\n",
    "oos_portfolio_weights = pd.DataFrame({\n",
    "    'Predicted VWM': oos_pred,\n",
    "    'Historical Average Return (r_bar)': r_bar,\n",
    "    'Weights': weights\n",
    "})\n",
    "\n",
    "print(oos_portfolio_weights)\n"
   ]
  },
  {
   "cell_type": "code",
   "execution_count": 1157,
   "metadata": {},
   "outputs": [
    {
     "data": {
      "text/plain": [
       "12     4.94\n",
       "13    -1.40\n",
       "14     3.36\n",
       "15     3.17\n",
       "16     2.42\n",
       "       ... \n",
       "408    5.21\n",
       "409    7.67\n",
       "410    3.09\n",
       "411    0.25\n",
       "412    4.12\n",
       "Name: Rm, Length: 401, dtype: float64"
      ]
     },
     "execution_count": 1157,
     "metadata": {},
     "output_type": "execute_result"
    }
   ],
   "source": [
    "vwm_train"
   ]
  },
  {
   "cell_type": "code",
   "execution_count": 1158,
   "metadata": {},
   "outputs": [
    {
     "data": {
      "text/plain": [
       "413   -4.52\n",
       "414    4.73\n",
       "415    2.78\n",
       "416   -1.13\n",
       "417    1.71\n",
       "       ... \n",
       "809    3.18\n",
       "810    1.69\n",
       "811    2.09\n",
       "812    2.14\n",
       "813   -0.58\n",
       "Name: Rm, Length: 401, dtype: float64"
      ]
     },
     "execution_count": 1158,
     "metadata": {},
     "output_type": "execute_result"
    }
   ],
   "source": [
    "vwm_test"
   ]
  },
  {
   "cell_type": "code",
   "execution_count": 1159,
   "metadata": {},
   "outputs": [],
   "source": [
    "oos_portfolio_returns = oos_pred * weights + vwm['RF'][413:] * (1-weights)"
   ]
  },
  {
   "cell_type": "markdown",
   "metadata": {},
   "source": [
    "#assume the risk free rate for out of sample data is known, only thing we're predicting is portfolio returns out of sample"
   ]
  },
  {
   "cell_type": "code",
   "execution_count": 1160,
   "metadata": {},
   "outputs": [
    {
     "data": {
      "text/plain": [
       "0.9306098659483136"
      ]
     },
     "execution_count": 1160,
     "metadata": {},
     "output_type": "execute_result"
    }
   ],
   "source": [
    "oos_new_sharpe = oos_portfolio_returns.mean() / oos_portfolio_returns.std()\n",
    "oos_new_sharpe"
   ]
  },
  {
   "cell_type": "code",
   "execution_count": 1161,
   "metadata": {},
   "outputs": [
    {
     "data": {
      "text/plain": [
       "0.214247306703385"
      ]
     },
     "execution_count": 1161,
     "metadata": {},
     "output_type": "execute_result"
    }
   ],
   "source": [
    "oos_old_sharpe = vwm_test.mean()/vwm_test.std()\n",
    "oos_old_sharpe"
   ]
  },
  {
   "cell_type": "markdown",
   "metadata": {},
   "source": [
    "# Retrain FF Model and compare Sharpe Ratios"
   ]
  },
  {
   "cell_type": "code",
   "execution_count": 1162,
   "metadata": {},
   "outputs": [],
   "source": [
    "#align indices\n",
    "#aligned_ff_train, aligned_ff_pred = ff_train['Mom   '].align(ff_pred, join='inner', axis=0)"
   ]
  },
  {
   "cell_type": "code",
   "execution_count": 1163,
   "metadata": {},
   "outputs": [],
   "source": [
    "ff_heter_results_oos = {}\n",
    "\n",
    "# Combine DEFAULT and INFLATION into a DataFrame\n",
    "new_data_ff_train = pd.DataFrame({\n",
    "    'DEFAULT': DEFAULT_train.values,\n",
    "    'INFLATION': INFLATION_train.values\n",
    "})\n",
    "\n",
    "new_data_ff_test = pd.DataFrame({\n",
    "    'DEFAULT': DEFAULT_test.values,\n",
    "    'INFLATION': INFLATION_test.values\n",
    "})\n",
    "\n",
    "# Add a constant term (intercept)\n",
    "ff_pred = sm.add_constant(new_data_ff_train)\n",
    "\n",
    "ff_train_reset = ff_train.reset_index(drop=True)\n",
    "ff_pred_reset = ff_pred.reset_index(drop=True)\n",
    "        \n",
    "# Perform regression\n",
    "model = sm.OLS(ff_train_reset['Mom   '], ff_pred_reset) \n",
    "results = model.fit(cov_type=\"HC0\")\n",
    "\n",
    "ff_oos_pred = results.predict(sm.add_constant(new_data_ff_test))"
   ]
  },
  {
   "cell_type": "code",
   "execution_count": 1164,
   "metadata": {},
   "outputs": [
    {
     "data": {
      "text/plain": [
       "0      0.899154\n",
       "1      0.932961\n",
       "2      0.910623\n",
       "3      0.909239\n",
       "4      0.863900\n",
       "         ...   \n",
       "396    0.968048\n",
       "397    0.938738\n",
       "398    0.935105\n",
       "399    0.926536\n",
       "400    0.977972\n",
       "Length: 401, dtype: float64"
      ]
     },
     "execution_count": 1164,
     "metadata": {},
     "output_type": "execute_result"
    }
   ],
   "source": [
    "ff_oos_pred"
   ]
  },
  {
   "cell_type": "code",
   "execution_count": 1166,
   "metadata": {},
   "outputs": [],
   "source": [
    "r2_ff_oos_pred = r2_score(ff_test['Mom   '], ff_oos_pred)"
   ]
  },
  {
   "cell_type": "code",
   "execution_count": 1167,
   "metadata": {},
   "outputs": [
    {
     "name": "stdout",
     "output_type": "stream",
     "text": [
      "     Predicted VWM  Historical Average Return (r_bar)  Weights\n",
      "0         0.899154                           0.701713      1.5\n",
      "1         0.932961                           0.701713      1.5\n",
      "2         0.910623                           0.701713      1.5\n",
      "3         0.909239                           0.701713      1.5\n",
      "4         0.863900                           0.701713      1.5\n",
      "..             ...                                ...      ...\n",
      "396       0.968048                           0.701713      1.5\n",
      "397       0.938738                           0.701713      1.5\n",
      "398       0.935105                           0.701713      1.5\n",
      "399       0.926536                           0.701713      1.5\n",
      "400       0.977972                           0.701713      1.5\n",
      "\n",
      "[401 rows x 3 columns]\n"
     ]
    }
   ],
   "source": [
    "# Calculate historical average return (r_bar)\n",
    "r_bar = ff_oos_pred.mean()\n",
    "\n",
    "# Apply the weighting function using pandas' `apply` method\n",
    "weights = ff_oos_pred.apply(lambda x: 1.5 if x > r_bar else 0.5)\n",
    "\n",
    "# Combine everything into a DataFrame for clarity\n",
    "ff_oos_portfolio_weights = pd.DataFrame({\n",
    "    'Predicted VWM': ff_oos_pred,\n",
    "    'Historical Average Return (r_bar)': r_bar,\n",
    "    'Weights': weights\n",
    "})\n",
    "\n",
    "print(ff_oos_portfolio_weights)"
   ]
  },
  {
   "cell_type": "code",
   "execution_count": 1168,
   "metadata": {},
   "outputs": [
    {
     "data": {
      "text/plain": [
       "array([1.5, 0.5])"
      ]
     },
     "execution_count": 1168,
     "metadata": {},
     "output_type": "execute_result"
    }
   ],
   "source": [
    "weights.unique()"
   ]
  },
  {
   "cell_type": "code",
   "execution_count": 1169,
   "metadata": {},
   "outputs": [],
   "source": [
    "vwm_index_aligned = vwm['RF'][413:].reset_index(drop=True)\n",
    "\n",
    "ff_oos_portfolio_returns = ff_oos_pred * weights + vwm_index_aligned * (1-weights)"
   ]
  },
  {
   "cell_type": "code",
   "execution_count": 1170,
   "metadata": {},
   "outputs": [
    {
     "data": {
      "text/plain": [
       "1.7181879486637295"
      ]
     },
     "execution_count": 1170,
     "metadata": {},
     "output_type": "execute_result"
    }
   ],
   "source": [
    "ff_oos_new_sharpe = ff_oos_portfolio_returns.mean() / ff_oos_portfolio_returns.std()\n",
    "ff_oos_new_sharpe"
   ]
  },
  {
   "cell_type": "code",
   "execution_count": 1171,
   "metadata": {},
   "outputs": [
    {
     "data": {
      "text/plain": [
       "0.09532709869001367"
      ]
     },
     "execution_count": 1171,
     "metadata": {},
     "output_type": "execute_result"
    }
   ],
   "source": [
    "ff_oos_old_sharpe = ff_test['Mom   '].mean()/ff_test['Mom   '].std()\n",
    "ff_oos_old_sharpe"
   ]
  },
  {
   "cell_type": "markdown",
   "metadata": {},
   "source": [
    "improvement might be much larger than for in sample because here you only derive the standard deviation over the out of sample period and maybe the returns of ff over the out of sample period were much more variable than in the training period\n",
    "\n",
    "if we do the same calculation for the in sample data over the same period (observations 413 to end) then a similar trend is observed? -- see the is calculations over the same period above"
   ]
  },
  {
   "cell_type": "markdown",
   "metadata": {},
   "source": [
    "# Question 3"
   ]
  },
  {
   "cell_type": "code",
   "execution_count": 1172,
   "metadata": {},
   "outputs": [],
   "source": [
    "from sklearn.metrics import r2_score"
   ]
  },
  {
   "cell_type": "code",
   "execution_count": 1178,
   "metadata": {},
   "outputs": [
    {
     "name": "stdout",
     "output_type": "stream",
     "text": [
      "0.012653834293923416\n",
      "0.00955533489570315\n"
     ]
    }
   ],
   "source": [
    "# In sample R2 for VWM\n",
    "\n",
    "#here we are using the in sample model and predicting the testing data, then calculating the R2 of the model for this range of data\n",
    "# we're doing this because we can only compare R2 of data happening in the same time range\n",
    "# so if we want to compare in sample to out of sample we need to calculate the in sample r2 only for the time range of the out of sample data\n",
    "\n",
    "pred_vwm_is = heter_results_5['Inflation_iter4'].predict(sm.add_constant(UR_test['UNRATE']))\n",
    "\n",
    "r2_pred_vwm_is = r2_score(vwm_test, pred_vwm_is)\n",
    "\n",
    "print(r2_pred_vwm_is) #in sample r2 for vwm over same period as oos predictions\n",
    "\n",
    "print(r2_oos_pred) # out of sample r2 for vwm"
   ]
  },
  {
   "cell_type": "code",
   "execution_count": 1179,
   "metadata": {},
   "outputs": [
    {
     "name": "stdout",
     "output_type": "stream",
     "text": [
      "0.03150042489292526\n",
      "0.0177622917635899\n"
     ]
    }
   ],
   "source": [
    "# In sample R2 for FF\n",
    "\n",
    "#here we are using the in sample model and predicting the testing data, then calculating the R2 of the model for this range of data\n",
    "# we're doing this because we can only compare R2 of data happening in the same time range\n",
    "# so if we want to compare in sample to out of sample we need to calculate the in sample r2 only for the time range of the out of sample data\n",
    "\n",
    "pred_ff_is = ff_heter_results_5['Curve_iter3'].predict(sm.add_constant(new_data_ff_test))\n",
    "\n",
    "r2_pred_ff_is = r2_score(ff_test['Mom   '], pred_ff_is)\n",
    "print(r2_pred_ff_is) #in sample r2 for ff\n",
    "print(r2_ff_oos_pred) # out of sample r2 for ff\n"
   ]
  },
  {
   "cell_type": "markdown",
   "metadata": {},
   "source": [
    "question 1\n",
    "\n",
    "1. univariate for whole sample\n",
    "2. model selection for whole sample using R^2, AIC, BIC\n",
    "3. then choose the best univariate, kitchen sink and backward selection model, then select the best one from the 3\n",
    "4. use the best model to predict returns\n",
    "5. construct portfolios where returns exceed average historical returns\n",
    "6. calculate sharpe ratios for each portfolio\n",
    "7. compare sharpe ratio to original portfolio \n",
    "\n",
    "question 2\n",
    "\n",
    "1. split data in half into train and test\n",
    "2. train model we selected from question 1 \n",
    "3. predict returns and calculate out of sample r^2\n",
    "4. calculate sharpe ratios and compare\n",
    "5. \n",
    "\n",
    "question 3\n",
    "theoretical question\n"
   ]
  },
  {
   "cell_type": "markdown",
   "metadata": {},
   "source": [
    "from collections import defaultdict\n",
    "import pandas as pd\n",
    "import statsmodels.api as sm\n",
    "\n",
    "# Initialize dictionaries to store results\n",
    "homosk_results_5 = {}\n",
    "heter_results_5 = {}\n",
    "\n",
    "# Copy factors and initialize the list of factor names\n",
    "updated_factors = factors_w_constant.copy()  # Copy to avoid modifying the original\n",
    "f_names = factors.columns\n",
    "remaining_predictors = defaultdict(list)  # Dictionary to store remaining predictors at each iteration\n",
    "bic_values = []  # List to store BIC values of the chosen model in each iteration\n",
    "\n",
    "for i in range(5):  # Loop 5 times for backward regression\n",
    "    sse_dict = {}\n",
    "    models = {}  # Store models for BIC extraction later\n",
    "\n",
    "    for pred in f_names:\n",
    "        # Remove one variable\n",
    "        col = updated_factors.drop(columns=[pred])\n",
    "        \n",
    "        # Perform regression\n",
    "        model = sm.OLS(vwm_kitchen_sink, col) #specific to VWM\n",
    "        results = model.fit(cov_type=\"HC0\")\n",
    "        \n",
    "        # Store results\n",
    "        heter_results_5[f\"{pred}_iter{i}\"] = results\n",
    "        sse_dict[pred] = results.ssr\n",
    "        models[pred] = results  # Keep track of models\n",
    "\n",
    "    # Convert results to DataFrame\n",
    "    sse = pd.DataFrame(list(sse_dict.items()), columns=['Predictor', 'SSE'])\n",
    "\n",
    "    # Find the predictor to remove (minimum SSE)\n",
    "    pred_to_remove = sse['Predictor'][sse['SSE'].idxmin()]\n",
    "\n",
    "    # Store BIC of the chosen model\n",
    "    bic_values.append(models[pred_to_remove].bic)\n",
    "\n",
    "    # Store remaining predictors for this iteration\n",
    "    remaining_factors = [f for f in f_names if f != pred_to_remove]\n",
    "    remaining_predictors[f\"Iteration_{i}\"] = remaining_factors\n",
    "\n",
    "    # Update factors by removing the selected predictor\n",
    "    updated_factors = updated_factors.drop(columns=[pred_to_remove])\n",
    "    f_names = f_names.drop(pred_to_remove)  # Update the list of factors\n",
    "\n",
    "# Display remaining predictors and BIC values\n",
    "for iteration, predictors in remaining_predictors.items():\n",
    "    print(f\"{iteration}: {predictors}\")\n",
    "\n",
    "print(\"\\nBIC values of the chosen model in each iteration:\")\n",
    "print(bic_values)\n"
   ]
  }
 ],
 "metadata": {
  "kernelspec": {
   "display_name": "base",
   "language": "python",
   "name": "python3"
  },
  "language_info": {
   "codemirror_mode": {
    "name": "ipython",
    "version": 3
   },
   "file_extension": ".py",
   "mimetype": "text/x-python",
   "name": "python",
   "nbconvert_exporter": "python",
   "pygments_lexer": "ipython3",
   "version": "3.12.7"
  }
 },
 "nbformat": 4,
 "nbformat_minor": 2
}
